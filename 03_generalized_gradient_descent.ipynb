{
 "cells": [
  {
   "attachments": {},
   "cell_type": "markdown",
   "metadata": {
    "id": "L5ALSPQSJp-n"
   },
   "source": [
    "# Generalized gradient descent"
   ]
  },
  {
   "attachments": {},
   "cell_type": "markdown",
   "metadata": {},
   "source": [
    "이전 시간에, 우리는 단수 입력과 단수 출력에 대한 경사하강법을 알아보고 구현했습니다.\n",
    "\n",
    "이제 복수 입출력에 대한 경사하강법을 구현해 봅시다."
   ]
  },
  {
   "attachments": {},
   "cell_type": "markdown",
   "metadata": {},
   "source": [
    "### 복수 출력 인공신경망"
   ]
  },
  {
   "attachments": {},
   "cell_type": "markdown",
   "metadata": {},
   "source": [
    "![](https://drek4537l1klr.cloudfront.net/trask2/Figures/f0080-01_alt.jpg)\n",
    "\n",
    "![](https://drek4537l1klr.cloudfront.net/trask2/Figures/f0080-02_alt.jpg)\n",
    "\n",
    "![](https://drek4537l1klr.cloudfront.net/trask2/Figures/f0081-01_alt.jpg)\n",
    "\n",
    "![](https://drek4537l1klr.cloudfront.net/trask2/Figures/f0081-02_alt.jpg)"
   ]
  },
  {
   "cell_type": "code",
   "execution_count": null,
   "metadata": {},
   "outputs": [],
   "source": [
    "import numpy as np\n",
    "\n",
    "def neural_network(weights, input):\n",
    "    pred = weights @ input\n",
    "    return pred\n",
    "\n",
    "weights = np.array([0.1, 0.2, -0.1])    # Three inputs, one output --> 1x3 matrix\n",
    "\n",
    "toes = np.array([8.5, 9.5, 9.9, 9.0])\n",
    "wlrec = np.array([0.65, 0.8, 0.8, 0.9])\n",
    "nfans = np.array([1.2, 1.3, 0.5, 1.0])\n",
    "\n",
    "win_or_lose_binary = np.array([1, 1, 0, 1])\n",
    "\n",
    "true = win_or_lose_binary[0]    # True value: 1\n",
    "\n",
    "input = np.array([toes[0], wlrec[0], nfans[0]]).reshape(3, -1)  # Input: 3x1 matrix\n",
    "\n",
    "pred = neural_network(weights, input)\n",
    "error = (pred - true) ** 2\n",
    "delta = pred - true\n",
    "weight_delta = input * delta\n",
    "\n",
    "print(f\"Former Weights: {weights}\")\n",
    "print(f\"Former Prediction: {pred}\")\n",
    "print(f\"Former Error: {error}\")\n",
    "print(f\"Former Delta: {delta}\")"
   ]
  },
  {
   "cell_type": "code",
   "execution_count": null,
   "metadata": {},
   "outputs": [],
   "source": [
    "alpha = 0.01\n",
    "\n",
    "for i in range(len(weights)):\n",
    "    weights[i] -= alpha * weight_delta[i]\n",
    "\n",
    "print(f\"Latter Weights: {weights}\")"
   ]
  },
  {
   "cell_type": "code",
   "execution_count": null,
   "metadata": {},
   "outputs": [],
   "source": [
    "pred = neural_network(weights, input)\n",
    "error = (pred - true) ** 2\n",
    "delta = pred - true\n",
    "weight_delta = input * delta\n",
    "\n",
    "print(f\"Latter Prediction: {pred}\")\n",
    "print(f\"Latter Error: {error}\")"
   ]
  },
  {
   "attachments": {},
   "cell_type": "markdown",
   "metadata": {},
   "source": [
    "앞시간에서 했던 계산과 동일하게 하면 됩니다!\n",
    "\n",
    "### 미분 계수\n",
    "- 오차를 줄이기 위해 weight가 어디로 얼마나 가야 할지 알 수 있다!\n",
    "\n",
    "$ y = (ax - b)^2 $\n",
    "\n",
    "$ \\displaystyle \\frac{dy}{dx} = 2(ax - b) \\cdot a $\n",
    "\n",
    "- $ax-b$: 순오차\n",
    "- $a$: input\n",
    "```python\n",
    "-> weight_delta = delta * input (2는 단순상수)\n",
    "```"
   ]
  },
  {
   "attachments": {},
   "cell_type": "markdown",
   "metadata": {},
   "source": [
    "### 주목할 점\n",
    "- 입력값이 기울기를 크게 수정시키기 때문에, 가중치를 수정하는 학습은 대부분 가장 큰 입력값의 가중치에 대해서 주로 이루어지게 됩니다."
   ]
  },
  {
   "attachments": {},
   "cell_type": "markdown",
   "metadata": {},
   "source": [
    "### 복수 출력 인공신경망"
   ]
  },
  {
   "attachments": {},
   "cell_type": "markdown",
   "metadata": {},
   "source": [
    "![](https://drek4537l1klr.cloudfront.net/trask2/Figures/f0090-01_alt.jpg)\n",
    "\n",
    "![](https://drek4537l1klr.cloudfront.net/trask2/Figures/f0090-02_alt.jpg)\n",
    "\n",
    "![](https://drek4537l1klr.cloudfront.net/trask2/Figures/f0091-01_alt.jpg)\n",
    "\n",
    "![](https://drek4537l1klr.cloudfront.net/trask2/Figures/f0091-02_alt.jpg)"
   ]
  },
  {
   "cell_type": "code",
   "execution_count": null,
   "metadata": {},
   "outputs": [],
   "source": [
    "import numpy as np\n",
    "\n",
    "def neural_network(weights, input):\n",
    "    pred = weights @ input\n",
    "    return pred\n",
    "\n",
    "weights = np.array([0.3, 0.2, 0.9]).reshape(3, -1)\n",
    "\n",
    "hurt = np.array([0.1, 0.0, 0.0, 0.1])\n",
    "win = np.array([1, 1, 0, 1])\n",
    "sad = np.array([0.1, 0.0, 0.1, 0.2])\n",
    "\n",
    "wlrec = np.array([0.65, 1.0, 1.0, 0.9])\n",
    "\n",
    "input = wlrec[0]\n",
    "true = [hurt[0], win[0], sad[0]]\n",
    "\n",
    "pred = np.dot(weights, input)\n",
    "error = np.zeros(3)\n",
    "delta = np.zeros(3)\n",
    "\n",
    "for i in range(3):\n",
    "    error[i] = (pred[i] - true[i]) ** 2\n",
    "    delta[i] = pred[i] - true[i]\n",
    "\n",
    "weight_delta = input * delta\n",
    "\n",
    "print(f\"Former Weights: \\n {weights}\")\n",
    "print(f\"Former Prediction: \\n {pred}\")\n",
    "print(f\"Former Error: \\n {error}\")\n",
    "print(f\"Former Delta: \\n {delta}\")"
   ]
  },
  {
   "cell_type": "code",
   "execution_count": null,
   "metadata": {},
   "outputs": [],
   "source": [
    "alpha = 0.1\n",
    "\n",
    "for i in range(len(weights)):\n",
    "    weights[i] -= alpha * weight_delta[i]\n",
    "\n",
    "print(f\"Latter Weights: \\n {weights}\")"
   ]
  },
  {
   "cell_type": "code",
   "execution_count": null,
   "metadata": {},
   "outputs": [],
   "source": [
    "pred = np.dot(weights, input)\n",
    "for i in range(3):\n",
    "    error[i] = (pred[i] - true[i]) ** 2\n",
    "    delta[i] = pred[i] - true[i]\n",
    "weight_delta = input * delta\n",
    "\n",
    "print(f\"Latter Weights: \\n {weights}\")\n",
    "print(f\"Latter Prediction: \\n {pred}\")\n",
    "print(f\"Latter Error: \\n {error}\")"
   ]
  },
  {
   "attachments": {},
   "cell_type": "markdown",
   "metadata": {},
   "source": [
    "### 복수 입력과 복수 출력을 가진 인공신경망"
   ]
  },
  {
   "attachments": {},
   "cell_type": "markdown",
   "metadata": {},
   "source": [
    "![](https://drek4537l1klr.cloudfront.net/trask2/Figures/f0092-01_alt.jpg)\n",
    "\n",
    "![](https://drek4537l1klr.cloudfront.net/trask2/Figures/f0092-02_alt.jpg)\n",
    "\n",
    "![](https://drek4537l1klr.cloudfront.net/trask2/Figures/f0093-01_alt.jpg)\n",
    "\n",
    "![](https://drek4537l1klr.cloudfront.net/trask2/Figures/f0093-02_alt.jpg)"
   ]
  },
  {
   "cell_type": "code",
   "execution_count": null,
   "metadata": {},
   "outputs": [],
   "source": [
    "import numpy as np\n",
    "\n",
    "def neural_network(weights, input):\n",
    "    pred = weights @ input\n",
    "    return pred\n",
    "\n",
    "weights = np.array([[0.1, 0.1, -0.3],\n",
    "                    [0.1, 0.2, 0.0],\n",
    "                    [0.0, 1.3, 0.1]])\n",
    "\n",
    "toes = 8.5\n",
    "wlrec = 0.65\n",
    "nfans = 1.2\n",
    "\n",
    "hurt = 0.1\n",
    "win = 1\n",
    "sad = 0.1\n",
    "\n",
    "alpha = 0.01\n",
    "\n",
    "input = np.array([toes, wlrec, nfans]).reshape(3, -1)\n",
    "true = np.array([hurt, win, sad]).reshape(3, -1)\n",
    "\n",
    "pred = neural_network(weights, input)"
   ]
  },
  {
   "cell_type": "code",
   "execution_count": null,
   "metadata": {},
   "outputs": [],
   "source": [
    "error = (pred - true) ** 2\n",
    "delta = (pred - true)\n",
    "\n",
    "print(f\"Prediction_previous: \\n {pred}\")\n",
    "print(f\"True values: \\n {true}\")\n",
    "print(f\"Error: \\n {error}\")"
   ]
  },
  {
   "cell_type": "code",
   "execution_count": null,
   "metadata": {},
   "outputs": [],
   "source": [
    "for iter in range(10):\n",
    "    \n",
    "    error = (pred - true) ** 2\n",
    "    delta = (pred - true)\n",
    "\n",
    "    # Important!!\n",
    "    # https://numpy.org/doc/stable/reference/generated/numpy.outer.html\n",
    "    weight_deltas = np.outer(delta, input)\n",
    "\n",
    "    weights -= alpha * weight_deltas\n",
    "\n",
    "    pred = neural_network(weights, input)\n",
    "    \n",
    "    print(f\"Iteration: {iter}\")\n",
    "    print(f\"Prediction_current: \\n {pred}\")"
   ]
  }
 ],
 "metadata": {
  "colab": {
   "collapsed_sections": [],
   "name": "4-2 확률적 경사 하강법.ipynb",
   "provenance": []
  },
  "kernelspec": {
   "display_name": "Python 3",
   "language": "python",
   "name": "python3"
  },
  "language_info": {
   "codemirror_mode": {
    "name": "ipython",
    "version": 3
   },
   "file_extension": ".py",
   "mimetype": "text/x-python",
   "name": "python",
   "nbconvert_exporter": "python",
   "pygments_lexer": "ipython3",
   "version": "3.8.16"
  },
  "vscode": {
   "interpreter": {
    "hash": "fb4569285eef3a3450cb62085a5b1e0da4bce0af555edc33dcf29baf3acc1368"
   }
  }
 },
 "nbformat": 4,
 "nbformat_minor": 4
}
