{
  "nbformat": 4,
  "nbformat_minor": 0,
  "metadata": {
    "colab": {
      "provenance": [],
      "authorship_tag": "ABX9TyNv2szCsijvZDW6l6mp9UIR"
    },
    "kernelspec": {
      "name": "python3",
      "display_name": "Python 3"
    },
    "language_info": {
      "name": "python"
    }
  },
  "cells": [
    {
      "cell_type": "code",
      "execution_count": null,
      "metadata": {
        "id": "9IW_y5blaoM6"
      },
      "outputs": [],
      "source": [
        "import tensorflow as tf\n",
        "from tensorflow import keras"
      ]
    },
    {
      "cell_type": "code",
      "source": [
        "fashion_mnist = keras.datasets.fashion_mnist\n",
        "(X_train_full,y_train_full),(X_test,y_test) = fashion_mnist.load_data()"
      ],
      "metadata": {
        "id": "F2cpgUSia-jY"
      },
      "execution_count": null,
      "outputs": []
    },
    {
      "cell_type": "code",
      "source": [
        "X_train_full.shape"
      ],
      "metadata": {
        "colab": {
          "base_uri": "https://localhost:8080/"
        },
        "id": "jtHnV2sPbPWY",
        "outputId": "f2038e83-0018-48a5-92e2-d75566095597"
      },
      "execution_count": null,
      "outputs": [
        {
          "output_type": "execute_result",
          "data": {
            "text/plain": [
              "(60000, 28, 28)"
            ]
          },
          "metadata": {},
          "execution_count": 3
        }
      ]
    },
    {
      "cell_type": "code",
      "source": [
        "X_train_full.dtype"
      ],
      "metadata": {
        "colab": {
          "base_uri": "https://localhost:8080/"
        },
        "id": "5odHqggCbSCM",
        "outputId": "c1c33fb2-54d1-4a5f-871b-e1bdae4ac3ff"
      },
      "execution_count": null,
      "outputs": [
        {
          "output_type": "execute_result",
          "data": {
            "text/plain": [
              "dtype('uint8')"
            ]
          },
          "metadata": {},
          "execution_count": 4
        }
      ]
    },
    {
      "cell_type": "code",
      "source": [
        "X_valid, X_train = X_train_full[:5000] / 255., X_train_full[5000:] / 255.\n",
        "y_valid, y_train = y_train_full[:5000], y_train_full[5000:]\n",
        "X_test = X_test / 255."
      ],
      "metadata": {
        "id": "DHo-rfTedUuf"
      },
      "execution_count": null,
      "outputs": []
    },
    {
      "cell_type": "code",
      "source": [
        "import matplotlib.pyplot as plt\n",
        "\n",
        "plt.imshow(X_train[0],cmap=\"binary\")\n",
        "plt.axis('off')\n",
        "plt.show()"
      ],
      "metadata": {
        "colab": {
          "base_uri": "https://localhost:8080/",
          "height": 248
        },
        "id": "_PPgumUxdsre",
        "outputId": "b0742f60-3afb-405b-ca76-04578b5d67b1"
      },
      "execution_count": null,
      "outputs": [
        {
          "output_type": "display_data",
          "data": {
            "text/plain": [
              "<Figure size 432x288 with 1 Axes>"
            ],
            "image/png": "[encoded data removed]"
          },
          "metadata": {
            "needs_background": "light"
          }
        }
      ]
    },
    {
      "cell_type": "code",
      "source": [
        "y_train"
      ],
      "metadata": {
        "colab": {
          "base_uri": "https://localhost:8080/"
        },
        "id": "0_BxAtMvd7Wc",
        "outputId": "95d66464-baff-453b-c1ac-9bf2dad5bbe1"
      },
      "execution_count": null,
      "outputs": [
        {
          "output_type": "execute_result",
          "data": {
            "text/plain": [
              "array([4, 0, 7, ..., 3, 0, 5], dtype=uint8)"
            ]
          },
          "metadata": {},
          "execution_count": 7
        }
      ]
    },
    {
      "cell_type": "code",
      "source": [
        "class_names = [\"T-shirt/top\",\"Trouser\",\"Pullover\",\"Dress\",\"Coat\",\"Sandal\",\"Shirt\",\"Sneaker\",\"Bag\",\"Ankle boot\"]"
      ],
      "metadata": {
        "id": "PzfTKeibd97V"
      },
      "execution_count": null,
      "outputs": []
    },
    {
      "cell_type": "code",
      "source": [
        "class_names[y_train[0]]"
      ],
      "metadata": {
        "colab": {
          "base_uri": "https://localhost:8080/",
          "height": 35
        },
        "id": "3GI8qNXLeC67",
        "outputId": "e1dcabf6-1f96-4abc-85d7-47e4f1f1d0b0"
      },
      "execution_count": null,
      "outputs": [
        {
          "output_type": "execute_result",
          "data": {
            "text/plain": [
              "'Coat'"
            ],
            "application/vnd.google.colaboratory.intrinsic+json": {
              "type": "string"
            }
          },
          "metadata": {},
          "execution_count": 9
        }
      ]
    },
    {
      "cell_type": "code",
      "source": [
        "model = keras.models.Sequential()"
      ],
      "metadata": {
        "id": "AOQ8zd6neY0w"
      },
      "execution_count": null,
      "outputs": []
    },
    {
      "cell_type": "code",
      "source": [
        "model.add(keras.layers.Flatten(input_shape=[28,28]))"
      ],
      "metadata": {
        "id": "hGK0GZdoesq-"
      },
      "execution_count": null,
      "outputs": []
    },
    {
      "cell_type": "code",
      "source": [
        "model.add(keras.layers.Dense(300,activation=\"relu\"))"
      ],
      "metadata": {
        "id": "4P6ZoU6be5LG"
      },
      "execution_count": null,
      "outputs": []
    },
    {
      "cell_type": "code",
      "source": [
        "model.add(keras.layers.Dense(100,activation=\"relu\"))"
      ],
      "metadata": {
        "id": "p38qxx3tfpy2"
      },
      "execution_count": null,
      "outputs": []
    },
    {
      "cell_type": "code",
      "source": [
        "model.add(keras.layers.Dense(10,activation=\"softmax\"))"
      ],
      "metadata": {
        "id": "gkAbqDBkfBMD"
      },
      "execution_count": null,
      "outputs": []
    },
    {
      "cell_type": "code",
      "source": [
        "model.summary()"
      ],
      "metadata": {
        "colab": {
          "base_uri": "https://localhost:8080/"
        },
        "id": "yRBfHPDJfhtG",
        "outputId": "01c77969-91d6-48a7-fbc6-7debfa3cb716"
      },
      "execution_count": null,
      "outputs": [
        {
          "output_type": "stream",
          "name": "stdout",
          "text": [
            "Model: \"sequential\"\n",
            "_________________________________________________________________\n",
            " Layer (type)                Output Shape              Param #   \n",
            "=================================================================\n",
            " flatten (Flatten)           (None, 784)               0         \n",
            "                                                                 \n",
            " dense (Dense)               (None, 300)               235500    \n",
            "                                                                 \n",
            " dense_1 (Dense)             (None, 100)               30100     \n",
            "                                                                 \n",
            " dense_2 (Dense)             (None, 10)                1010      \n",
            "                                                                 \n",
            "=================================================================\n",
            "Total params: 266,610\n",
            "Trainable params: 266,610\n",
            "Non-trainable params: 0\n",
            "_________________________________________________________________\n"
          ]
        }
      ]
    },
    {
      "cell_type": "code",
      "source": [
        "model.layers"
      ],
      "metadata": {
        "colab": {
          "base_uri": "https://localhost:8080/"
        },
        "id": "t35tdyhxf49t",
        "outputId": "bd33bf67-e6ca-4493-8146-6c94e4b9db51"
      },
      "execution_count": null,
      "outputs": [
        {
          "output_type": "execute_result",
          "data": {
            "text/plain": [
              "[<keras.layers.reshaping.flatten.Flatten at 0x7f6fca419940>,\n",
              " <keras.layers.core.dense.Dense at 0x7f6fc5a21df0>,\n",
              " <keras.layers.core.dense.Dense at 0x7f6fc5979e20>,\n",
              " <keras.layers.core.dense.Dense at 0x7f702e33b220>]"
            ]
          },
          "metadata": {},
          "execution_count": 16
        }
      ]
    },
    {
      "cell_type": "code",
      "source": [
        "hidden1 = model.layers[1]\n",
        "hidden1.name"
      ],
      "metadata": {
        "colab": {
          "base_uri": "https://localhost:8080/",
          "height": 35
        },
        "id": "E1tVQBsSf_r-",
        "outputId": "2ea9dcd3-cc3e-4a08-c70a-f8c3d963e053"
      },
      "execution_count": null,
      "outputs": [
        {
          "output_type": "execute_result",
          "data": {
            "text/plain": [
              "'dense'"
            ],
            "application/vnd.google.colaboratory.intrinsic+json": {
              "type": "string"
            }
          },
          "metadata": {},
          "execution_count": 17
        }
      ]
    },
    {
      "cell_type": "code",
      "source": [
        "weights,biases = hidden1.get_weights()"
      ],
      "metadata": {
        "id": "ENOZota6gIE0"
      },
      "execution_count": null,
      "outputs": []
    },
    {
      "cell_type": "code",
      "source": [
        "weights"
      ],
      "metadata": {
        "colab": {
          "base_uri": "https://localhost:8080/"
        },
        "id": "JoG_n_qCgOY8",
        "outputId": "f8ddfd9d-36dc-44a3-d331-930abb4d7c17"
      },
      "execution_count": null,
      "outputs": [
        {
          "output_type": "execute_result",
          "data": {
            "text/plain": [
              "array([[ 0.07261434,  0.02725866, -0.0335589 , ..., -0.0511154 ,\n",
              "         0.01511313, -0.00939067],\n",
              "       [ 0.02132278, -0.03876775,  0.05061547, ..., -0.01264489,\n",
              "        -0.01927307,  0.0307259 ],\n",
              "       [ 0.01425269, -0.03287392,  0.04896151, ..., -0.02998355,\n",
              "        -0.03307294,  0.06554498],\n",
              "       ...,\n",
              "       [ 0.05325447, -0.01964618,  0.06555091, ..., -0.03740433,\n",
              "        -0.07130059,  0.03481504],\n",
              "       [ 0.00920313, -0.01284306,  0.01046308, ..., -0.00280898,\n",
              "         0.03468267, -0.02143488],\n",
              "       [ 0.07387696,  0.03116337,  0.06759889, ...,  0.00654481,\n",
              "        -0.04265129, -0.07275656]], dtype=float32)"
            ]
          },
          "metadata": {},
          "execution_count": 19
        }
      ]
    },
    {
      "cell_type": "code",
      "source": [
        "weights.shape"
      ],
      "metadata": {
        "colab": {
          "base_uri": "https://localhost:8080/"
        },
        "id": "9OPbGVIWgUIU",
        "outputId": "c724c9a2-cc5c-4fdd-cddf-ea9d5dff3703"
      },
      "execution_count": null,
      "outputs": [
        {
          "output_type": "execute_result",
          "data": {
            "text/plain": [
              "(784, 300)"
            ]
          },
          "metadata": {},
          "execution_count": 20
        }
      ]
    },
    {
      "cell_type": "code",
      "source": [
        "biases"
      ],
      "metadata": {
        "colab": {
          "base_uri": "https://localhost:8080/"
        },
        "id": "1BgDA60MgWrS",
        "outputId": "98476bdd-922a-4589-b58f-47698e813e18"
      },
      "execution_count": null,
      "outputs": [
        {
          "output_type": "execute_result",
          "data": {
            "text/plain": [
              "array([0., 0., 0., 0., 0., 0., 0., 0., 0., 0., 0., 0., 0., 0., 0., 0., 0.,\n",
              "       0., 0., 0., 0., 0., 0., 0., 0., 0., 0., 0., 0., 0., 0., 0., 0., 0.,\n",
              "       0., 0., 0., 0., 0., 0., 0., 0., 0., 0., 0., 0., 0., 0., 0., 0., 0.,\n",
              "       0., 0., 0., 0., 0., 0., 0., 0., 0., 0., 0., 0., 0., 0., 0., 0., 0.,\n",
              "       0., 0., 0., 0., 0., 0., 0., 0., 0., 0., 0., 0., 0., 0., 0., 0., 0.,\n",
              "       0., 0., 0., 0., 0., 0., 0., 0., 0., 0., 0., 0., 0., 0., 0., 0., 0.,\n",
              "       0., 0., 0., 0., 0., 0., 0., 0., 0., 0., 0., 0., 0., 0., 0., 0., 0.,\n",
              "       0., 0., 0., 0., 0., 0., 0., 0., 0., 0., 0., 0., 0., 0., 0., 0., 0.,\n",
              "       0., 0., 0., 0., 0., 0., 0., 0., 0., 0., 0., 0., 0., 0., 0., 0., 0.,\n",
              "       0., 0., 0., 0., 0., 0., 0., 0., 0., 0., 0., 0., 0., 0., 0., 0., 0.,\n",
              "       0., 0., 0., 0., 0., 0., 0., 0., 0., 0., 0., 0., 0., 0., 0., 0., 0.,\n",
              "       0., 0., 0., 0., 0., 0., 0., 0., 0., 0., 0., 0., 0., 0., 0., 0., 0.,\n",
              "       0., 0., 0., 0., 0., 0., 0., 0., 0., 0., 0., 0., 0., 0., 0., 0., 0.,\n",
              "       0., 0., 0., 0., 0., 0., 0., 0., 0., 0., 0., 0., 0., 0., 0., 0., 0.,\n",
              "       0., 0., 0., 0., 0., 0., 0., 0., 0., 0., 0., 0., 0., 0., 0., 0., 0.,\n",
              "       0., 0., 0., 0., 0., 0., 0., 0., 0., 0., 0., 0., 0., 0., 0., 0., 0.,\n",
              "       0., 0., 0., 0., 0., 0., 0., 0., 0., 0., 0., 0., 0., 0., 0., 0., 0.,\n",
              "       0., 0., 0., 0., 0., 0., 0., 0., 0., 0., 0.], dtype=float32)"
            ]
          },
          "metadata": {},
          "execution_count": 21
        }
      ]
    },
    {
      "cell_type": "code",
      "source": [
        "biases.shape"
      ],
      "metadata": {
        "colab": {
          "base_uri": "https://localhost:8080/"
        },
        "id": "p7IfHS0hgY60",
        "outputId": "0f62658f-0092-46e4-85f3-0da340f3eb55"
      },
      "execution_count": null,
      "outputs": [
        {
          "output_type": "execute_result",
          "data": {
            "text/plain": [
              "(300,)"
            ]
          },
          "metadata": {},
          "execution_count": 23
        }
      ]
    },
    {
      "cell_type": "code",
      "source": [
        "model.compile(loss=\"sparse_categorical_crossentropy\",optimizer=\"sgd\",metrics=[\"accuracy\"])"
      ],
      "metadata": {
        "id": "Ss3p-y4pgf01"
      },
      "execution_count": null,
      "outputs": []
    },
    {
      "cell_type": "code",
      "source": [
        "history = model.fit(X_train,y_train,epochs=30,validation_data=(X_valid,y_valid))"
      ],
      "metadata": {
        "colab": {
          "base_uri": "https://localhost:8080/"
        },
        "id": "J9B7tVlyk8ML",
        "outputId": "de7a5a4b-3df6-4641-d77a-bc4daedc9379"
      },
      "execution_count": null,
      "outputs": [
        {
          "output_type": "stream",
          "name": "stdout",
          "text": [
            "Epoch 1/30\n",
            "1719/1719 [==============================] - 11s 6ms/step - loss: 0.7205 - accuracy: 0.7647 - val_loss: 0.5004 - val_accuracy: 0.8370\n",
            "Epoch 2/30\n",
            "1719/1719 [==============================] - 8s 5ms/step - loss: 0.4907 - accuracy: 0.8283 - val_loss: 0.4646 - val_accuracy: 0.8424\n",
            "Epoch 3/30\n",
            "1719/1719 [==============================] - 8s 5ms/step - loss: 0.4452 - accuracy: 0.8447 - val_loss: 0.4114 - val_accuracy: 0.8642\n",
            "Epoch 4/30\n",
            "1719/1719 [==============================] - 8s 5ms/step - loss: 0.4179 - accuracy: 0.8541 - val_loss: 0.3962 - val_accuracy: 0.8642\n",
            "Epoch 5/30\n",
            "1719/1719 [==============================] - 8s 5ms/step - loss: 0.3959 - accuracy: 0.8601 - val_loss: 0.3921 - val_accuracy: 0.8614\n",
            "Epoch 6/30\n",
            "1719/1719 [==============================] - 8s 5ms/step - loss: 0.3806 - accuracy: 0.8649 - val_loss: 0.3752 - val_accuracy: 0.8686\n",
            "Epoch 7/30\n",
            "1719/1719 [==============================] - 8s 5ms/step - loss: 0.3663 - accuracy: 0.8698 - val_loss: 0.3619 - val_accuracy: 0.8730\n",
            "Epoch 8/30\n",
            "1719/1719 [==============================] - 8s 5ms/step - loss: 0.3551 - accuracy: 0.8740 - val_loss: 0.3725 - val_accuracy: 0.8700\n",
            "Epoch 9/30\n",
            "1719/1719 [==============================] - 8s 5ms/step - loss: 0.3447 - accuracy: 0.8773 - val_loss: 0.3586 - val_accuracy: 0.8742\n",
            "Epoch 10/30\n",
            "1719/1719 [==============================] - 9s 5ms/step - loss: 0.3351 - accuracy: 0.8806 - val_loss: 0.3467 - val_accuracy: 0.8810\n",
            "Epoch 11/30\n",
            "1719/1719 [==============================] - 8s 5ms/step - loss: 0.3264 - accuracy: 0.8836 - val_loss: 0.3447 - val_accuracy: 0.8822\n",
            "Epoch 12/30\n",
            "1719/1719 [==============================] - 9s 5ms/step - loss: 0.3186 - accuracy: 0.8863 - val_loss: 0.3501 - val_accuracy: 0.8768\n",
            "Epoch 13/30\n",
            "1719/1719 [==============================] - 8s 5ms/step - loss: 0.3109 - accuracy: 0.8889 - val_loss: 0.3436 - val_accuracy: 0.8796\n",
            "Epoch 14/30\n",
            "1719/1719 [==============================] - 9s 5ms/step - loss: 0.3042 - accuracy: 0.8909 - val_loss: 0.3521 - val_accuracy: 0.8744\n",
            "Epoch 15/30\n",
            "1719/1719 [==============================] - 8s 5ms/step - loss: 0.2970 - accuracy: 0.8931 - val_loss: 0.3253 - val_accuracy: 0.8842\n",
            "Epoch 16/30\n",
            "1719/1719 [==============================] - 8s 5ms/step - loss: 0.2914 - accuracy: 0.8953 - val_loss: 0.3246 - val_accuracy: 0.8840\n",
            "Epoch 17/30\n",
            "1719/1719 [==============================] - 8s 5ms/step - loss: 0.2855 - accuracy: 0.8976 - val_loss: 0.3134 - val_accuracy: 0.8894\n",
            "Epoch 18/30\n",
            "1719/1719 [==============================] - 8s 5ms/step - loss: 0.2803 - accuracy: 0.8989 - val_loss: 0.3106 - val_accuracy: 0.8904\n",
            "Epoch 19/30\n",
            "1719/1719 [==============================] - 8s 5ms/step - loss: 0.2744 - accuracy: 0.9007 - val_loss: 0.3113 - val_accuracy: 0.8874\n",
            "Epoch 20/30\n",
            "1719/1719 [==============================] - 8s 5ms/step - loss: 0.2694 - accuracy: 0.9031 - val_loss: 0.3213 - val_accuracy: 0.8876\n",
            "Epoch 21/30\n",
            "1719/1719 [==============================] - 8s 5ms/step - loss: 0.2650 - accuracy: 0.9046 - val_loss: 0.3061 - val_accuracy: 0.8914\n",
            "Epoch 22/30\n",
            "1719/1719 [==============================] - 8s 5ms/step - loss: 0.2589 - accuracy: 0.9069 - val_loss: 0.3113 - val_accuracy: 0.8888\n",
            "Epoch 23/30\n",
            "1719/1719 [==============================] - 8s 5ms/step - loss: 0.2543 - accuracy: 0.9089 - val_loss: 0.3084 - val_accuracy: 0.8908\n",
            "Epoch 24/30\n",
            "1719/1719 [==============================] - 9s 5ms/step - loss: 0.2513 - accuracy: 0.9093 - val_loss: 0.3097 - val_accuracy: 0.8882\n",
            "Epoch 25/30\n",
            "1719/1719 [==============================] - 8s 5ms/step - loss: 0.2474 - accuracy: 0.9109 - val_loss: 0.2981 - val_accuracy: 0.8942\n",
            "Epoch 26/30\n",
            "1719/1719 [==============================] - 8s 5ms/step - loss: 0.2427 - accuracy: 0.9124 - val_loss: 0.3050 - val_accuracy: 0.8924\n",
            "Epoch 27/30\n",
            "1719/1719 [==============================] - 8s 5ms/step - loss: 0.2373 - accuracy: 0.9139 - val_loss: 0.3168 - val_accuracy: 0.8870\n",
            "Epoch 28/30\n",
            "1719/1719 [==============================] - 8s 5ms/step - loss: 0.2341 - accuracy: 0.9151 - val_loss: 0.3004 - val_accuracy: 0.8902\n",
            "Epoch 29/30\n",
            "1719/1719 [==============================] - 8s 5ms/step - loss: 0.2306 - accuracy: 0.9172 - val_loss: 0.2973 - val_accuracy: 0.8966\n",
            "Epoch 30/30\n",
            "1719/1719 [==============================] - 9s 5ms/step - loss: 0.2270 - accuracy: 0.9188 - val_loss: 0.2956 - val_accuracy: 0.8926\n"
          ]
        }
      ]
    },
    {
      "cell_type": "code",
      "source": [
        "history.params"
      ],
      "metadata": {
        "colab": {
          "base_uri": "https://localhost:8080/"
        },
        "id": "khQusLvmndmF",
        "outputId": "2742a7a3-70f0-42c6-c3a7-841535dec268"
      },
      "execution_count": null,
      "outputs": [
        {
          "output_type": "execute_result",
          "data": {
            "text/plain": [
              "{'verbose': 1, 'epochs': 30, 'steps': 1719}"
            ]
          },
          "metadata": {},
          "execution_count": 31
        }
      ]
    },
    {
      "cell_type": "code",
      "source": [
        "history.history.keys()"
      ],
      "metadata": {
        "colab": {
          "base_uri": "https://localhost:8080/"
        },
        "id": "-kdmBWQSnlUz",
        "outputId": "a8424444-2988-44bf-dc12-86f3f0e2283d"
      },
      "execution_count": null,
      "outputs": [
        {
          "output_type": "execute_result",
          "data": {
            "text/plain": [
              "dict_keys(['loss', 'accuracy', 'val_loss', 'val_accuracy'])"
            ]
          },
          "metadata": {},
          "execution_count": 33
        }
      ]
    },
    {
      "cell_type": "code",
      "source": [
        "import pandas as pd\n",
        "\n",
        "pd.DataFrame(history.history).plot(figsize=(8,5))\n",
        "plt.grid(True)\n",
        "plt.gca().set_ylim(0,1)\n",
        "plt.savefig(\"keras_learning_curves_plot\")\n",
        "plt.show()"
      ],
      "metadata": {
        "colab": {
          "base_uri": "https://localhost:8080/",
          "height": 324
        },
        "id": "OI_1NRBvn0Er",
        "outputId": "031d7257-4c20-42d5-82ad-dd1fc02f92c0"
      },
      "execution_count": null,
      "outputs": [
        {
          "output_type": "display_data",
          "data": {
            "text/plain": [
              "<Figure size 576x360 with 1 Axes>"
            ],
            "image/png": "[encoded data removed]"
          },
          "metadata": {
            "needs_background": "light"
          }
        }
      ]
    },
    {
      "cell_type": "code",
      "source": [
        "model.evaluate(X_test,y_test)"
      ],
      "metadata": {
        "colab": {
          "base_uri": "https://localhost:8080/"
        },
        "id": "QUFiYIQvoTzQ",
        "outputId": "d6be15c6-27bc-42af-9637-6b8ee0a7e8ea"
      },
      "execution_count": null,
      "outputs": [
        {
          "output_type": "stream",
          "name": "stdout",
          "text": [
            "313/313 [==============================] - 1s 3ms/step - loss: 0.3259 - accuracy: 0.8847\n"
          ]
        },
        {
          "output_type": "execute_result",
          "data": {
            "text/plain": [
              "[0.3259446918964386, 0.8847000002861023]"
            ]
          },
          "metadata": {},
          "execution_count": 36
        }
      ]
    },
    {
      "cell_type": "code",
      "source": [
        "X_new = X_test[:3]\n",
        "y_proba = model.predict(X_new)\n",
        "y_proba.round(2)"
      ],
      "metadata": {
        "colab": {
          "base_uri": "https://localhost:8080/"
        },
        "id": "mTxgx8e3oaKM",
        "outputId": "fc06bfb4-a65c-4cb3-8f8d-7529c440c439"
      },
      "execution_count": null,
      "outputs": [
        {
          "output_type": "stream",
          "name": "stdout",
          "text": [
            "1/1 [==============================] - 0s 163ms/step\n"
          ]
        },
        {
          "output_type": "execute_result",
          "data": {
            "text/plain": [
              "array([[0.  , 0.  , 0.  , 0.  , 0.  , 0.  , 0.  , 0.02, 0.  , 0.98],\n",
              "       [0.  , 0.  , 1.  , 0.  , 0.  , 0.  , 0.  , 0.  , 0.  , 0.  ],\n",
              "       [0.  , 1.  , 0.  , 0.  , 0.  , 0.  , 0.  , 0.  , 0.  , 0.  ]],\n",
              "      dtype=float32)"
            ]
          },
          "metadata": {},
          "execution_count": 37
        }
      ]
    },
    {
      "cell_type": "code",
      "source": [
        "y_prob = model.predict(X_new, verbose=0) \n",
        "predicted = y_prob.argmax(axis=-1)"
      ],
      "metadata": {
        "id": "OBOJHtKRolRL"
      },
      "execution_count": null,
      "outputs": []
    },
    {
      "cell_type": "code",
      "source": [
        "import numpy as np\n",
        "\n",
        "np.array(class_names)[predicted]"
      ],
      "metadata": {
        "colab": {
          "base_uri": "https://localhost:8080/"
        },
        "id": "N73jpKV3o3pi",
        "outputId": "a34c11ac-13d3-411d-acbc-5f29c069e5db"
      },
      "execution_count": null,
      "outputs": [
        {
          "output_type": "execute_result",
          "data": {
            "text/plain": [
              "array(['Ankle boot', 'Pullover', 'Trouser'], dtype='<U11')"
            ]
          },
          "metadata": {},
          "execution_count": 41
        }
      ]
    },
    {
      "cell_type": "code",
      "source": [
        "y_new = y_test[:3]\n",
        "y_new"
      ],
      "metadata": {
        "colab": {
          "base_uri": "https://localhost:8080/"
        },
        "id": "aNW4hRUbpAyL",
        "outputId": "99da9f87-dd9b-40b1-99ff-a42c9bec4021"
      },
      "execution_count": null,
      "outputs": [
        {
          "output_type": "execute_result",
          "data": {
            "text/plain": [
              "array([9, 2, 1], dtype=uint8)"
            ]
          },
          "metadata": {},
          "execution_count": 43
        }
      ]
    },
    {
      "cell_type": "code",
      "source": [
        "from matplotlib.gridspec import tight_layout\n",
        "plt.figure(figsize=(7.2,2.4))\n",
        "for index,image in enumerate(X_new):\n",
        "  plt.subplot(1,3,index+1)\n",
        "  plt.imshow(image,cmap=\"binary\",interpolation=\"nearest\")\n",
        "  plt.axis('off')\n",
        "  plt.title(class_names[y_test[index]],fontsize=12)\n",
        "plt.subplots_adjust(wspace=0.2,hspace=0.5)\n",
        "plt.savefig(\"fashion_mnist_images_plot\",tight_layout=False)\n",
        "plt.show()"
      ],
      "metadata": {
        "colab": {
          "base_uri": "https://localhost:8080/",
          "height": 165
        },
        "id": "-8KrwEfzpFZE",
        "outputId": "8024a898-2d48-43df-91ac-740dcabb0449"
      },
      "execution_count": null,
      "outputs": [
        {
          "output_type": "display_data",
          "data": {
            "text/plain": [
              "<Figure size 518.4x172.8 with 3 Axes>"
            ],
            "image/png": "[encoded data removed]"
          },
          "metadata": {
            "needs_background": "light"
          }
        }
      ]
    }
  ]
}