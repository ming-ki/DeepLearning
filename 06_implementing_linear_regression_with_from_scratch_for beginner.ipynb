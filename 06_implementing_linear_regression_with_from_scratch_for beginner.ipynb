{
 "cells": [
  {
   "attachments": {},
   "cell_type": "markdown",
   "metadata": {},
   "source": [
    "# Implementing linear regression with gradient descent from scratch"
   ]
  },
  {
   "attachments": {},
   "cell_type": "markdown",
   "metadata": {},
   "source": [
    "우리는 주어진 샘플을 가장 잘 설명할 수 있는 직선을 구하고자 합니다.\n",
    "\n",
    "![](https://miro.medium.com/v2/resize:fit:810/format:webp/1*1Y77kIQXPfM3wy9c8Kr7ig.png)"
   ]
  },
  {
   "cell_type": "code",
   "execution_count": null,
   "metadata": {},
   "outputs": [],
   "source": [
    "import numpy as np"
   ]
  },
  {
   "cell_type": "code",
   "execution_count": null,
   "metadata": {},
   "outputs": [],
   "source": [
    "np.random.seed(0)\n",
    "x = np.random.rand(100)\n",
    "print(x)"
   ]
  },
  {
   "cell_type": "code",
   "execution_count": null,
   "metadata": {},
   "outputs": [],
   "source": [
    "# 우리는 w와 b를 모릅니다!\n",
    "w_true = 3\n",
    "b_true = 5\n",
    "y = w_true*x + b_true + np.random.rand(100) - 0.5\n",
    "print(y)"
   ]
  },
  {
   "cell_type": "code",
   "execution_count": null,
   "metadata": {},
   "outputs": [],
   "source": [
    "import matplotlib.pyplot as plt\n",
    "plt.rcParams[\"figure.figsize\"] = (20, 10)\n",
    "plt.rc('font', size=20)\n",
    "\n",
    "plt.plot(x, w_true*x + b_true, 'r-')\n",
    "plt.scatter(x, y)\n",
    "plt.show()"
   ]
  },
  {
   "attachments": {},
   "cell_type": "markdown",
   "metadata": {},
   "source": [
    "Mean square error를 정의해 봅시다.\n",
    "\n",
    "$$ MSE = \\frac{1}{n} \\sum_{\\textrm{for all i's}}(\\hat{y_i}-y_i)^2$$\n",
    "- $ \\hat{y_i}$: predicted value \n",
    "- $ y_i$: true value"
   ]
  },
  {
   "attachments": {},
   "cell_type": "markdown",
   "metadata": {},
   "source": [
    "주요 아이디어는 그래디언트의 반대 방향으로 작은 단계를 반복적으로 수행하여 미분 가능 함수의 로컬 최소값을 찾는 것\n",
    "\n",
    "![](https://miro.medium.com/v2/resize:fit:790/format:webp/1*4Wob-p3zS7V9hBPlJ6kJjA.png)"
   ]
  },
  {
   "attachments": {},
   "cell_type": "markdown",
   "metadata": {},
   "source": [
    "- 선형 회귀의 경우 로컬 최소값을 찾아 손실 함수(MSE)를 최소화해야 함을 의미함\n",
    "- 따라서 그래디언트를 계산하고 반복적으로 반대 방향으로 작은 단계를 수행\n",
    "- 그래디언트를 계산할 수 있으려면 몇 가지 작업이 필요함\n",
    "    - 각 매개변수에 대한 손실 함수의 1차 편도함수를 도출해야 함"
   ]
  },
  {
   "attachments": {},
   "cell_type": "markdown",
   "metadata": {},
   "source": [
    "우선, loss function을 정의해 봅시다.\n",
    "$$ \\displaystyle \\mathcal{L}(w, b) = \\frac{1}{2n}\\sum_{i=0}^{N-1}(\\hat{y_i}-y_i)^2 = \\frac{1}{2n}\\sum_{i=0}^{N-1}\\{(wx_i+b)-y_i\\}^2 $$"
   ]
  },
  {
   "cell_type": "code",
   "execution_count": null,
   "metadata": {},
   "outputs": [],
   "source": [
    "def calc_loss(w, b, x, y):\n",
    "    n = len(x)\n",
    "    return (1/(2*n))*((w * x + b - y)**2).sum()"
   ]
  },
  {
   "attachments": {},
   "cell_type": "markdown",
   "metadata": {},
   "source": [
    "$w$에 대한 편미분: (let, $z = (wx_i+b)-y_i$)\n",
    "\n",
    "1. $ \\displaystyle \\mathcal{L} = \\frac{1}{2n}(z)^2$\n",
    "\n",
    "2. $ \\displaystyle \\frac{\\partial \\mathcal{L}}{\\partial z} = \\frac{1}{2n}2z = \\frac{1}{n}((wx_i+b)-y_i)$\n",
    "\n",
    "3. $ \\displaystyle \\frac{\\partial z}{\\partial w} = \\frac{\\partial}{\\partial w}((wx_i+b)-y_i) = x_i$\n",
    "\n",
    "$ \\displaystyle \\therefore \\frac{\\partial \\mathcal{L}}{\\partial w} = \\frac{\\partial \\mathcal{L}}{\\partial z} \\frac{\\partial z}{\\partial w} = \\frac{1}{n}((wx_i+b)-y_i)x_i$"
   ]
  },
  {
   "cell_type": "code",
   "execution_count": null,
   "metadata": {},
   "outputs": [],
   "source": [
    "def calc_dldw(w, b, x, y):\n",
    "    n = len(x)\n",
    "    output = 0\n",
    "    for ind in range(n):\n",
    "        output += (w * x[ind] + b - y[ind]) * x[ind]\n",
    "    output = output / n\n",
    "    return output"
   ]
  },
  {
   "attachments": {},
   "cell_type": "markdown",
   "metadata": {},
   "source": [
    "$b$에 대한 편미분: (let, $z = (wx_i+b)-y_i$)\n",
    "\n",
    "1. $ \\displaystyle \\mathcal{L} = \\frac{1}{2n}(z)^2$\n",
    "\n",
    "2. $ \\displaystyle \\frac{\\partial \\mathcal{L}}{\\partial z} = \\frac{1}{2n}2z = \\frac{1}{n}((wx_i+b)-y_i)$\n",
    "\n",
    "3. $ \\displaystyle \\frac{\\partial z}{\\partial b} = \\frac{\\partial}{\\partial b}((wx_i+b)-y_i) = 1$\n",
    "\n",
    "$ \\displaystyle \\therefore \\frac{\\partial \\mathcal{L}}{\\partial b} = \\frac{\\partial \\mathcal{L}}{\\partial z} \\frac{\\partial z}{\\partial b} = \\frac{1}{n}((wx_i+b)-y_i)$"
   ]
  },
  {
   "cell_type": "code",
   "execution_count": null,
   "metadata": {},
   "outputs": [],
   "source": [
    "def calc_dldb(w, b, x, y):\n",
    "    n = len(x)\n",
    "    output = 0\n",
    "    for ind in range(n):\n",
    "        output += (w * x[ind] + b - y[ind])\n",
    "    output = output / n\n",
    "    return output"
   ]
  },
  {
   "attachments": {},
   "cell_type": "markdown",
   "metadata": {},
   "source": [
    "우리는 $w$와 $b$에 대해 모르니, 랜덤하게 초기화합니다."
   ]
  },
  {
   "cell_type": "code",
   "execution_count": null,
   "metadata": {},
   "outputs": [],
   "source": [
    "w_esti = 10*np.random.rand(1)\n",
    "b_esti = 10*np.random.rand(1)\n",
    "print(w_esti, b_esti)"
   ]
  },
  {
   "attachments": {},
   "cell_type": "markdown",
   "metadata": {},
   "source": [
    "현재의 cost를 계산합니다."
   ]
  },
  {
   "cell_type": "code",
   "execution_count": null,
   "metadata": {},
   "outputs": [],
   "source": [
    "calc_loss(w_esti, b_esti, x, y)"
   ]
  },
  {
   "attachments": {},
   "cell_type": "markdown",
   "metadata": {},
   "source": [
    "샘플 중 랜덤하게 10개 선택합시다."
   ]
  },
  {
   "cell_type": "code",
   "execution_count": null,
   "metadata": {},
   "outputs": [],
   "source": [
    "idx = np.random.randint(100, size=10)"
   ]
  },
  {
   "attachments": {},
   "cell_type": "markdown",
   "metadata": {},
   "source": [
    "Iteration 이후 $w$와 $b$가 증가할지 감소할지 예상해 봅시다."
   ]
  },
  {
   "cell_type": "code",
   "execution_count": null,
   "metadata": {},
   "outputs": [],
   "source": [
    "print(calc_dldw(w_esti, b_esti, x[idx], y[idx]))\n",
    "print(calc_dldb(w_esti, b_esti, x[idx], y[idx]))"
   ]
  },
  {
   "cell_type": "code",
   "execution_count": null,
   "metadata": {},
   "outputs": [],
   "source": [
    "plt.scatter(x, y)\n",
    "plt.scatter(x[idx], y[idx], c='r')\n",
    "plt.show()"
   ]
  },
  {
   "cell_type": "code",
   "execution_count": null,
   "metadata": {},
   "outputs": [],
   "source": [
    "print(f\"w_estimation_prev: {w_esti}, b_estimation_prev: {b_esti}\")\n",
    "dldw = calc_dldw(w_esti, b_esti, x[idx], y[idx])\n",
    "dldb = calc_dldb(w_esti, b_esti, x[idx], y[idx])"
   ]
  },
  {
   "cell_type": "code",
   "execution_count": null,
   "metadata": {},
   "outputs": [],
   "source": [
    "alpha = 0.1\n",
    "\n",
    "w_esti = w_esti - alpha*dldw\n",
    "b_esti = b_esti - alpha*dldb\n",
    "print(f\"w_estimation_curr: {w_esti}, b_estimation_curr: {b_esti}\")"
   ]
  },
  {
   "cell_type": "code",
   "execution_count": null,
   "metadata": {},
   "outputs": [],
   "source": [
    "for iter in range(1000):\n",
    "    print(f\"Trial: {iter}\")\n",
    "    print(f\"Current error: {calc_loss(w_esti, b_esti, x, y)}\")\n",
    "    print(f\"w_esti: {w_esti.round(4)}, b_esti: {b_esti.round(4)}\")\n",
    "    idx = np.random.randint(100, size=10)\n",
    "    dldw = calc_dldw(w_esti, b_esti, x[idx], y[idx])\n",
    "    dldb = calc_dldb(w_esti, b_esti, x[idx], y[idx])\n",
    "    w_esti = w_esti - alpha*dldw\n",
    "    b_esti = b_esti - alpha*dldb\n"
   ]
  },
  {
   "cell_type": "code",
   "execution_count": null,
   "metadata": {},
   "outputs": [],
   "source": [
    "plt.plot(x, w_true*x + b_true, label='Real')\n",
    "plt.plot(x, w_esti*x + b_esti, label='Estimation')\n",
    "plt.scatter(x, y)\n",
    "plt.legend()\n",
    "plt.show()"
   ]
  }
 ],
 "metadata": {
  "kernelspec": {
   "display_name": "Python 3",
   "language": "python",
   "name": "python3"
  },
  "language_info": {
   "codemirror_mode": {
    "name": "ipython",
    "version": 3
   },
   "file_extension": ".py",
   "mimetype": "text/x-python",
   "name": "python",
   "nbconvert_exporter": "python",
   "pygments_lexer": "ipython3",
   "version": "3.8.16"
  },
  "orig_nbformat": 4,
  "vscode": {
   "interpreter": {
    "hash": "fb4569285eef3a3450cb62085a5b1e0da4bce0af555edc33dcf29baf3acc1368"
   }
  }
 },
 "nbformat": 4,
 "nbformat_minor": 2
}
