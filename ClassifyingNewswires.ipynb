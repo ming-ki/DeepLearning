{
  "nbformat": 4,
  "nbformat_minor": 0,
  "metadata": {
    "colab": {
      "provenance": [],
      "authorship_tag": "ABX9TyOlLCFCgkTM86PYsu06eJ54"
    },
    "kernelspec": {
      "name": "python3",
      "display_name": "Python 3"
    },
    "language_info": {
      "name": "python"
    }
  },
  "cells": [
    {
      "cell_type": "code",
      "execution_count": 9,
      "metadata": {
        "id": "3ehPMu60uwSO"
      },
      "outputs": [],
      "source": [
        "from tensorflow import keras\n",
        "from keras.datasets import reuters\n",
        "reuters = keras.datasets.reuters\n",
        "(X_train_full,y_train_full), (X_test_full,y_test_full) = reuters.load_data(num_words=10000)"
      ]
    },
    {
      "cell_type": "code",
      "source": [
        "X_train_full"
      ],
      "metadata": {
        "colab": {
          "base_uri": "https://localhost:8080/"
        },
        "id": "kKfn0d9tvW09",
        "outputId": "ebd8a185-4ffe-4b29-fcee-41a3cf0a7640"
      },
      "execution_count": 10,
      "outputs": [
        {
          "output_type": "execute_result",
          "data": {
            "text/plain": [
              "array([list([1, 2, 2, 8, 43, 10, 447, 5, 25, 207, 270, 5, 3095, 111, 16, 369, 186, 90, 67, 7, 89, 5, 19, 102, 6, 19, 124, 15, 90, 67, 84, 22, 482, 26, 7, 48, 4, 49, 8, 864, 39, 209, 154, 6, 151, 6, 83, 11, 15, 22, 155, 11, 15, 7, 48, 9, 4579, 1005, 504, 6, 258, 6, 272, 11, 15, 22, 134, 44, 11, 15, 16, 8, 197, 1245, 90, 67, 52, 29, 209, 30, 32, 132, 6, 109, 15, 17, 12]),\n",
              "       list([1, 3267, 699, 3434, 2295, 56, 2, 7511, 9, 56, 3906, 1073, 81, 5, 1198, 57, 366, 737, 132, 20, 4093, 7, 2, 49, 2295, 2, 1037, 3267, 699, 3434, 8, 7, 10, 241, 16, 855, 129, 231, 783, 5, 4, 587, 2295, 2, 2, 775, 7, 48, 34, 191, 44, 35, 1795, 505, 17, 12]),\n",
              "       list([1, 53, 12, 284, 15, 14, 272, 26, 53, 959, 32, 818, 15, 14, 272, 26, 39, 684, 70, 11, 14, 12, 3886, 18, 180, 183, 187, 70, 11, 14, 102, 32, 11, 29, 53, 44, 704, 15, 14, 19, 758, 15, 53, 959, 47, 1013, 15, 14, 19, 132, 15, 39, 965, 32, 11, 14, 147, 72, 11, 180, 183, 187, 44, 11, 14, 102, 19, 11, 123, 186, 90, 67, 960, 4, 78, 13, 68, 467, 511, 110, 59, 89, 90, 67, 1390, 55, 2678, 92, 617, 80, 1274, 46, 905, 220, 13, 4, 346, 48, 235, 629, 5, 211, 5, 1118, 7, 2, 81, 5, 187, 11, 15, 9, 1709, 201, 5, 47, 3615, 18, 478, 4514, 5, 1118, 7, 232, 2, 71, 5, 160, 63, 11, 9, 2, 81, 5, 102, 59, 11, 17, 12]),\n",
              "       ...,\n",
              "       list([1, 141, 3890, 387, 81, 8, 16, 1629, 10, 340, 1241, 850, 31, 56, 3890, 691, 9, 1241, 71, 9, 5985, 2, 2, 699, 2, 2, 2, 699, 244, 5945, 4, 49, 8, 4, 656, 850, 33, 2993, 9, 2139, 340, 3371, 1493, 9, 2, 22, 2, 1094, 687, 83, 35, 15, 257, 6, 57, 9190, 7, 4, 5956, 654, 5, 2, 6191, 1371, 4, 49, 8, 16, 369, 646, 6, 1076, 7, 124, 407, 17, 12]),\n",
              "       list([1, 53, 46, 957, 26, 14, 74, 132, 26, 39, 46, 258, 3614, 18, 14, 74, 134, 5131, 18, 88, 2321, 72, 11, 14, 1842, 32, 11, 123, 383, 89, 39, 46, 235, 10, 864, 728, 5, 258, 44, 11, 15, 22, 753, 9, 42, 92, 131, 728, 5, 69, 312, 11, 15, 22, 222, 2, 3237, 383, 48, 39, 74, 235, 10, 864, 276, 5, 61, 32, 11, 15, 21, 4, 211, 5, 126, 1072, 42, 92, 131, 46, 19, 352, 11, 15, 22, 710, 220, 9, 42, 92, 131, 276, 5, 59, 61, 11, 15, 22, 10, 455, 7, 1172, 137, 336, 1325, 6, 1532, 142, 971, 6463, 43, 359, 5, 4, 326, 753, 364, 17, 12]),\n",
              "       list([1, 227, 2406, 91, 2, 125, 2855, 21, 4, 3976, 76, 7, 4, 757, 481, 3976, 790, 5259, 5654, 9, 111, 149, 8, 7, 10, 76, 223, 51, 4, 417, 8, 1047, 91, 6917, 1688, 340, 7, 194, 9411, 6, 1894, 21, 127, 2151, 2394, 1456, 6, 3034, 4, 329, 433, 7, 65, 87, 1127, 10, 8219, 1475, 290, 9, 21, 567, 16, 1926, 24, 4, 76, 209, 30, 4033, 6655, 5654, 8, 4, 60, 8, 4, 966, 308, 40, 2575, 129, 2, 295, 277, 1071, 9, 24, 286, 2114, 234, 222, 9, 4, 906, 3994, 8519, 114, 5758, 1752, 7, 4, 113, 17, 12])],\n",
              "      dtype=object)"
            ]
          },
          "metadata": {},
          "execution_count": 10
        }
      ]
    },
    {
      "cell_type": "code",
      "source": [
        "y_train_full"
      ],
      "metadata": {
        "colab": {
          "base_uri": "https://localhost:8080/"
        },
        "id": "6FkG_oi1vZUa",
        "outputId": "e609a0de-9e95-409a-bccc-547be5578430"
      },
      "execution_count": 11,
      "outputs": [
        {
          "output_type": "execute_result",
          "data": {
            "text/plain": [
              "array([ 3,  4,  3, ..., 25,  3, 25])"
            ]
          },
          "metadata": {},
          "execution_count": 11
        }
      ]
    },
    {
      "cell_type": "code",
      "source": [
        "word_index = reuters.get_word_index()\n",
        "reverse_word_index = dict([(value,key) for (key,value) in word_index.items()])\n",
        "decode_review = ' '.join([reverse_word_index.get(i-3,'?')for i in X_train_full[0]])"
      ],
      "metadata": {
        "id": "gEISa_6-vevA"
      },
      "execution_count": 12,
      "outputs": []
    },
    {
      "cell_type": "code",
      "source": [
        "reverse_word_index[1]\n",
        "decode_review"
      ],
      "metadata": {
        "colab": {
          "base_uri": "https://localhost:8080/",
          "height": 90
        },
        "id": "62mCl6tNv3Ki",
        "outputId": "9158f4cf-2670-4032-a253-ac783658129e"
      },
      "execution_count": 13,
      "outputs": [
        {
          "output_type": "execute_result",
          "data": {
            "text/plain": [
              "'? ? ? said as a result of its december acquisition of space co it expects earnings per share in 1987 of 1 15 to 1 30 dlrs per share up from 70 cts in 1986 the company said pretax net should rise to nine to 10 mln dlrs from six mln dlrs in 1986 and rental operation revenues to 19 to 22 mln dlrs from 12 5 mln dlrs it said cash flow per share this year should be 2 50 to three dlrs reuter 3'"
            ],
            "application/vnd.google.colaboratory.intrinsic+json": {
              "type": "string"
            }
          },
          "metadata": {},
          "execution_count": 13
        }
      ]
    },
    {
      "cell_type": "code",
      "source": [
        "import numpy as np\n",
        "\n",
        "def vectorize_sequences(sequences, dimension = 10000):\n",
        "  results = np.zeros((len(sequences),dimension))\n",
        "  for i, sequence in enumerate(sequences):\n",
        "    results[i,sequence] = 1.\n",
        "  return results\n",
        "\n",
        "X_train = vectorize_sequences(X_train_full)\n",
        "X_test = vectorize_sequences(X_test_full)"
      ],
      "metadata": {
        "id": "CqCZxi2Yv7Ka"
      },
      "execution_count": 15,
      "outputs": []
    },
    {
      "cell_type": "code",
      "source": [
        "print(X_train_full.shape)\n",
        "print(X_train.shape)"
      ],
      "metadata": {
        "colab": {
          "base_uri": "https://localhost:8080/"
        },
        "id": "Uq877KjQyNO8",
        "outputId": "0b181b8d-5a55-4849-8a86-a6da3446845e"
      },
      "execution_count": 16,
      "outputs": [
        {
          "output_type": "stream",
          "name": "stdout",
          "text": [
            "(8982,)\n",
            "(8982, 10000)\n"
          ]
        }
      ]
    },
    {
      "cell_type": "code",
      "source": [
        "X_train"
      ],
      "metadata": {
        "colab": {
          "base_uri": "https://localhost:8080/"
        },
        "id": "DFO8CBUOySOJ",
        "outputId": "ba4dc906-b0e3-4c05-bd09-8acd959f042c"
      },
      "execution_count": 17,
      "outputs": [
        {
          "output_type": "execute_result",
          "data": {
            "text/plain": [
              "array([[0., 1., 1., ..., 0., 0., 0.],\n",
              "       [0., 1., 1., ..., 0., 0., 0.],\n",
              "       [0., 1., 1., ..., 0., 0., 0.],\n",
              "       ...,\n",
              "       [0., 1., 1., ..., 0., 0., 0.],\n",
              "       [0., 1., 1., ..., 0., 0., 0.],\n",
              "       [0., 1., 1., ..., 0., 0., 0.]])"
            ]
          },
          "metadata": {},
          "execution_count": 17
        }
      ]
    },
    {
      "cell_type": "code",
      "source": [
        "def to_one_hot(labels,dimension=46):\n",
        "  results = np.zeros((len(labels),dimension))\n",
        "  for i, label in enumerate(labels):\n",
        "    results[i,label] = 1.\n",
        "  return results\n",
        "\n",
        "y_train = to_one_hot(y_train_full)\n",
        "y_test = to_one_hot(y_test_full)"
      ],
      "metadata": {
        "id": "WvZPw44fyTpx"
      },
      "execution_count": 18,
      "outputs": []
    },
    {
      "cell_type": "code",
      "source": [
        "y_train"
      ],
      "metadata": {
        "colab": {
          "base_uri": "https://localhost:8080/"
        },
        "id": "UR4jVJJgyvEo",
        "outputId": "f96b785f-36b8-4244-ac20-4a4eb6553213"
      },
      "execution_count": 19,
      "outputs": [
        {
          "output_type": "execute_result",
          "data": {
            "text/plain": [
              "array([[0., 0., 0., ..., 0., 0., 0.],\n",
              "       [0., 0., 0., ..., 0., 0., 0.],\n",
              "       [0., 0., 0., ..., 0., 0., 0.],\n",
              "       ...,\n",
              "       [0., 0., 0., ..., 0., 0., 0.],\n",
              "       [0., 0., 0., ..., 0., 0., 0.],\n",
              "       [0., 0., 0., ..., 0., 0., 0.]])"
            ]
          },
          "metadata": {},
          "execution_count": 19
        }
      ]
    },
    {
      "cell_type": "code",
      "source": [
        "y_train.shape"
      ],
      "metadata": {
        "colab": {
          "base_uri": "https://localhost:8080/"
        },
        "id": "VZG8H6sOyw06",
        "outputId": "2410cac8-7ed0-4a14-9369-c8ba9f94482d"
      },
      "execution_count": 20,
      "outputs": [
        {
          "output_type": "execute_result",
          "data": {
            "text/plain": [
              "(8982, 46)"
            ]
          },
          "metadata": {},
          "execution_count": 20
        }
      ]
    },
    {
      "cell_type": "code",
      "source": [
        "y_test"
      ],
      "metadata": {
        "colab": {
          "base_uri": "https://localhost:8080/"
        },
        "id": "76VGLdcVyyyI",
        "outputId": "820750f8-0d26-4111-9457-d4a2961b9b2a"
      },
      "execution_count": 21,
      "outputs": [
        {
          "output_type": "execute_result",
          "data": {
            "text/plain": [
              "array([[0., 0., 0., ..., 0., 0., 0.],\n",
              "       [0., 0., 0., ..., 0., 0., 0.],\n",
              "       [0., 1., 0., ..., 0., 0., 0.],\n",
              "       ...,\n",
              "       [0., 0., 0., ..., 0., 0., 0.],\n",
              "       [0., 0., 0., ..., 0., 0., 0.],\n",
              "       [0., 0., 0., ..., 0., 0., 0.]])"
            ]
          },
          "metadata": {},
          "execution_count": 21
        }
      ]
    },
    {
      "cell_type": "code",
      "source": [
        "y_test.shape"
      ],
      "metadata": {
        "colab": {
          "base_uri": "https://localhost:8080/"
        },
        "id": "z5yg2z1fyz3I",
        "outputId": "58530f4c-5551-4aa0-9675-c54fed20abc2"
      },
      "execution_count": 22,
      "outputs": [
        {
          "output_type": "execute_result",
          "data": {
            "text/plain": [
              "(2246, 46)"
            ]
          },
          "metadata": {},
          "execution_count": 22
        }
      ]
    },
    {
      "cell_type": "code",
      "source": [
        "model = keras.models.Sequential()\n",
        "model.add(keras.layers.Flatten(input_shape=(10000,)))\n",
        "model.add(keras.layers.Dense(64,activation=\"relu\"))\n",
        "model.add(keras.layers.Dense(64,activation=\"relu\"))\n",
        "model.add(keras.layers.Dense(46,activation=\"softmax\"))"
      ],
      "metadata": {
        "id": "pXcJZ5Shy2QD"
      },
      "execution_count": 24,
      "outputs": []
    },
    {
      "cell_type": "code",
      "source": [
        "model.compile(loss=\"categorical_crossentropy\",optimizer = \"sgd\",metrics=\"accuracy\")"
      ],
      "metadata": {
        "id": "nZnb0Kz6zI1B"
      },
      "execution_count": 28,
      "outputs": []
    },
    {
      "cell_type": "code",
      "source": [
        "X_val = X_train[:1000]\n",
        "X_train_part = X_train[1000:]\n",
        "y_val = y_train[:1000]\n",
        "y_train_part = y_train[1000:]"
      ],
      "metadata": {
        "id": "0ny-8BSTzZaB"
      },
      "execution_count": 29,
      "outputs": []
    },
    {
      "cell_type": "code",
      "source": [
        "history = model.fit(X_train_part, y_train_part,epochs = 30,validation_data = (X_val,y_val))"
      ],
      "metadata": {
        "colab": {
          "base_uri": "https://localhost:8080/"
        },
        "id": "Ak0d9Ano0ScD",
        "outputId": "3a5cf6d9-6eaa-4044-89db-2d587d0d5a18"
      },
      "execution_count": 30,
      "outputs": [
        {
          "output_type": "stream",
          "name": "stdout",
          "text": [
            "Epoch 1/30\n",
            "250/250 [==============================] - 4s 9ms/step - loss: 2.7248 - accuracy: 0.4439 - val_loss: 2.0056 - val_accuracy: 0.5270\n",
            "Epoch 2/30\n",
            "250/250 [==============================] - 2s 8ms/step - loss: 1.8556 - accuracy: 0.5416 - val_loss: 1.7217 - val_accuracy: 0.5690\n",
            "Epoch 3/30\n",
            "250/250 [==============================] - 2s 8ms/step - loss: 1.6508 - accuracy: 0.6025 - val_loss: 1.5906 - val_accuracy: 0.6390\n",
            "Epoch 4/30\n",
            "250/250 [==============================] - 2s 7ms/step - loss: 1.5241 - accuracy: 0.6555 - val_loss: 1.4981 - val_accuracy: 0.6740\n",
            "Epoch 5/30\n",
            "250/250 [==============================] - 2s 7ms/step - loss: 1.4183 - accuracy: 0.6865 - val_loss: 1.4068 - val_accuracy: 0.6740\n",
            "Epoch 6/30\n",
            "250/250 [==============================] - 2s 8ms/step - loss: 1.3244 - accuracy: 0.6988 - val_loss: 1.3362 - val_accuracy: 0.6950\n",
            "Epoch 7/30\n",
            "250/250 [==============================] - 2s 8ms/step - loss: 1.2432 - accuracy: 0.7139 - val_loss: 1.2725 - val_accuracy: 0.7050\n",
            "Epoch 8/30\n",
            "250/250 [==============================] - 2s 7ms/step - loss: 1.1714 - accuracy: 0.7329 - val_loss: 1.2224 - val_accuracy: 0.7120\n",
            "Epoch 9/30\n",
            "250/250 [==============================] - 2s 8ms/step - loss: 1.1076 - accuracy: 0.7507 - val_loss: 1.1831 - val_accuracy: 0.7230\n",
            "Epoch 10/30\n",
            "250/250 [==============================] - 2s 7ms/step - loss: 1.0486 - accuracy: 0.7645 - val_loss: 1.1432 - val_accuracy: 0.7420\n",
            "Epoch 11/30\n",
            "250/250 [==============================] - 2s 7ms/step - loss: 0.9958 - accuracy: 0.7803 - val_loss: 1.1074 - val_accuracy: 0.7500\n",
            "Epoch 12/30\n",
            "250/250 [==============================] - 2s 7ms/step - loss: 0.9455 - accuracy: 0.7914 - val_loss: 1.0790 - val_accuracy: 0.7630\n",
            "Epoch 13/30\n",
            "250/250 [==============================] - 2s 7ms/step - loss: 0.8987 - accuracy: 0.8017 - val_loss: 1.0569 - val_accuracy: 0.7660\n",
            "Epoch 14/30\n",
            "250/250 [==============================] - 2s 7ms/step - loss: 0.8547 - accuracy: 0.8064 - val_loss: 1.0411 - val_accuracy: 0.7660\n",
            "Epoch 15/30\n",
            "250/250 [==============================] - 2s 7ms/step - loss: 0.8135 - accuracy: 0.8161 - val_loss: 1.0279 - val_accuracy: 0.7730\n",
            "Epoch 16/30\n",
            "250/250 [==============================] - 2s 7ms/step - loss: 0.7764 - accuracy: 0.8232 - val_loss: 1.0083 - val_accuracy: 0.7720\n",
            "Epoch 17/30\n",
            "250/250 [==============================] - 2s 8ms/step - loss: 0.7393 - accuracy: 0.8302 - val_loss: 0.9963 - val_accuracy: 0.7770\n",
            "Epoch 18/30\n",
            "250/250 [==============================] - 2s 8ms/step - loss: 0.7059 - accuracy: 0.8355 - val_loss: 0.9835 - val_accuracy: 0.7780\n",
            "Epoch 19/30\n",
            "250/250 [==============================] - 2s 8ms/step - loss: 0.6723 - accuracy: 0.8449 - val_loss: 0.9768 - val_accuracy: 0.7840\n",
            "Epoch 20/30\n",
            "250/250 [==============================] - 2s 7ms/step - loss: 0.6421 - accuracy: 0.8484 - val_loss: 0.9608 - val_accuracy: 0.7810\n",
            "Epoch 21/30\n",
            "250/250 [==============================] - 2s 7ms/step - loss: 0.6123 - accuracy: 0.8552 - val_loss: 0.9602 - val_accuracy: 0.7880\n",
            "Epoch 22/30\n",
            "250/250 [==============================] - 2s 7ms/step - loss: 0.5844 - accuracy: 0.8606 - val_loss: 0.9533 - val_accuracy: 0.7920\n",
            "Epoch 23/30\n",
            "250/250 [==============================] - 2s 7ms/step - loss: 0.5579 - accuracy: 0.8700 - val_loss: 0.9544 - val_accuracy: 0.7910\n",
            "Epoch 24/30\n",
            "250/250 [==============================] - 2s 7ms/step - loss: 0.5335 - accuracy: 0.8740 - val_loss: 0.9492 - val_accuracy: 0.7890\n",
            "Epoch 25/30\n",
            "250/250 [==============================] - 2s 8ms/step - loss: 0.5099 - accuracy: 0.8807 - val_loss: 0.9449 - val_accuracy: 0.7900\n",
            "Epoch 26/30\n",
            "250/250 [==============================] - 2s 8ms/step - loss: 0.4859 - accuracy: 0.8872 - val_loss: 0.9454 - val_accuracy: 0.7930\n",
            "Epoch 27/30\n",
            "250/250 [==============================] - 2s 7ms/step - loss: 0.4649 - accuracy: 0.8926 - val_loss: 0.9402 - val_accuracy: 0.8040\n",
            "Epoch 28/30\n",
            "250/250 [==============================] - 2s 8ms/step - loss: 0.4444 - accuracy: 0.8986 - val_loss: 0.9368 - val_accuracy: 0.8010\n",
            "Epoch 29/30\n",
            "250/250 [==============================] - 2s 8ms/step - loss: 0.4257 - accuracy: 0.9039 - val_loss: 0.9486 - val_accuracy: 0.7930\n",
            "Epoch 30/30\n",
            "250/250 [==============================] - 2s 7ms/step - loss: 0.4080 - accuracy: 0.9062 - val_loss: 0.9436 - val_accuracy: 0.8010\n"
          ]
        }
      ]
    },
    {
      "cell_type": "code",
      "source": [
        "import pandas as pd\n",
        "import matplotlib.pyplot as plt\n",
        "\n",
        "pd.DataFrame(history.history).plot(figsize=(8,5))\n",
        "plt.grid(True)\n",
        "plt.gca().set_ylim(0,2)\n",
        "plt.savefig(\"annapp_reuters_train_epoch_30\")\n",
        "plt.show()"
      ],
      "metadata": {
        "colab": {
          "base_uri": "https://localhost:8080/",
          "height": 324
        },
        "id": "c3Y1dZEL2Ied",
        "outputId": "b6631c19-4494-46f5-d391-3504c6e9b7e4"
      },
      "execution_count": 32,
      "outputs": [
        {
          "output_type": "display_data",
          "data": {
            "text/plain": [
              "<Figure size 576x360 with 1 Axes>"
            ],
            "image/png": "[encoded data removed]"
          },
          "metadata": {
            "needs_background": "light"
          }
        }
      ]
    }
  ]
}