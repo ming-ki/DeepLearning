{
 "cells": [
  {
   "attachments": {},
   "cell_type": "markdown",
   "metadata": {
    "id": "L5ALSPQSJp-n"
   },
   "source": [
    "# Gradient descent"
   ]
  },
  {
   "attachments": {},
   "cell_type": "markdown",
   "metadata": {},
   "source": [
    "perceptron에서, 단순한 예측을 하는 신경망을 살펴보았습니다.\n",
    "- 단수 또는 복수의 입력을 받아 단수 또는 복수의 예측을 하는 신경망\n",
    "- 은닉층이 포함된 신경망\n",
    "\n",
    "이제, 얼마나 잘 예측했는지 평가해 보도록 합시다.\n",
    "- 오차는 항상 '양수'\n",
    "- 평균제곱오차 (Mean square error)\n",
    "\n",
    "경사하강법이 하는 일\n",
    "- 각 가중치에 대해 수행한 계산 결과 (즉, 예측)가 오차를 줄이려면 가중치를 어떻게 조정해야 하는지에 대해 알려줌"
   ]
  },
  {
   "attachments": {},
   "cell_type": "markdown",
   "metadata": {},
   "source": [
    "### 예측과 실제 값의 비교\n",
    "- 선형 회귀를 떠올려 보면서, y_true와 y_pred (=weight*input)의 관계에 대해 생각해 봅시다. "
   ]
  },
  {
   "attachments": {},
   "cell_type": "markdown",
   "metadata": {},
   "source": [
    "![](https://drek4537l1klr.cloudfront.net/trask2/Figures/f0050-01_alt.jpg)"
   ]
  },
  {
   "cell_type": "code",
   "execution_count": null,
   "metadata": {},
   "outputs": [],
   "source": [
    "knob_weight = 0.5\n",
    "input = 0.5\n",
    "y_true = 0.8\n",
    "\n",
    "y_pred = input * knob_weight\n",
    "\n",
    "error = (y_pred - y_true) ** 2\n",
    "\n",
    "print(error)"
   ]
  },
  {
   "attachments": {},
   "cell_type": "markdown",
   "metadata": {},
   "source": [
    "### 오차에 제곱을 하면 나타나는 효과\n",
    "- 큰 오차를 작은 오차보다 더 우선시하여 처리할 수 있다.\n",
    "- 양수 오차와 음수 오차의 합으로 인한 오차 상쇄 효과를 방지할 수 있다.\n",
    "- MAE와는 어떻게 달라지는지?"
   ]
  },
  {
   "attachments": {},
   "cell_type": "markdown",
   "metadata": {},
   "source": [
    "### 온냉요법 Hot and cold learning\n",
    "![](https://drek4537l1klr.cloudfront.net/trask2/Figures/f0052-01_alt.jpg)\n",
    "\n",
    "![](https://drek4537l1klr.cloudfront.net/trask2/Figures/f0052-02_alt.jpg)\n",
    "\n",
    "![](https://drek4537l1klr.cloudfront.net/trask2/Figures/f0053-01_alt.jpg)\n",
    "\n",
    "![](https://drek4537l1klr.cloudfront.net/trask2/Figures/f0053-02_alt.jpg)\n",
    "\n",
    "![](https://drek4537l1klr.cloudfront.net/trask2/Figures/f0053-03_alt.jpg)"
   ]
  },
  {
   "cell_type": "code",
   "execution_count": null,
   "metadata": {},
   "outputs": [],
   "source": [
    "# weight = 0.5, input = 0.5인데, y_true = 0.8이면 좋겠음.\n",
    "# weight는 바꿀 수 있다. input은 바꿀 수 있을까?\n",
    "weight = 0.5\n",
    "input = 0.5\n",
    "y_true = 0.8\n",
    "\n",
    "step_amount = 0.001\n",
    "\n",
    "for iteration in range(1000):\n",
    "\n",
    "    prediction = input * weight\n",
    "    error = (prediction - y_true) ** 2\n",
    "\n",
    "    print(f\"Iteration: {iteration}, Error: {error:.4f}, Prediction: {prediction:.4f}\")\n",
    "\n",
    "    up_prediction = input * (weight + step_amount)\n",
    "    up_error = (y_true - up_prediction) ** 2\n",
    "\n",
    "    down_prediction = input * (weight - step_amount)\n",
    "    down_error = (y_true - down_prediction) ** 2\n",
    "\n",
    "    if(down_error < up_error):\n",
    "        weight = weight - step_amount\n",
    "    else:\n",
    "        weight = weight + step_amount\n"
   ]
  },
  {
   "attachments": {},
   "cell_type": "markdown",
   "metadata": {},
   "source": [
    "### 온냉학습의 문제점\n",
    "1. 비효율적\n",
    "2. 파라미터에 따라 예측이 안될 때가 있음 (위 코드에서 step_amount=0.2일 때)\n",
    "\n",
    "- 우리는 weight를 어디로 옮길지는 알 수 있으나 얼마나 옮겨야 할지는 알기 힘들다."
   ]
  },
  {
   "attachments": {},
   "cell_type": "markdown",
   "metadata": {},
   "source": [
    "### 오차를 측정해서 방향과 거리를 알아봅시다.\n",
    "![](https://drek4537l1klr.cloudfront.net/trask2/Figures/f0056-01_alt.jpg)"
   ]
  },
  {
   "cell_type": "code",
   "execution_count": null,
   "metadata": {},
   "outputs": [],
   "source": [
    "weight = 0.5\n",
    "input = 0.5\n",
    "y_true = 0.8\n",
    "\n",
    "for iteration in range(20):\n",
    "    y_pred = input * weight\n",
    "    error = (y_pred - y_true) ** 2\n",
    "    direction_and_amount = (y_pred - y_true) * input\n",
    "    weight = weight - direction_and_amount\n",
    "\n",
    "    print(f\"Iteration: {iteration}, Error: {error:.4f}, Prediction: {pred:.4f}\")\n"
   ]
  },
  {
   "attachments": {},
   "cell_type": "markdown",
   "metadata": {},
   "source": [
    "순오차: pred - goal_pred\n",
    "- 양수(음수)라면, 원하는 실제 값보다 예측값이 크다(작다)는 의미\n",
    "- input을 곱하는 이유\n",
    "- \"weight = weight - direction_and_amount\"\n",
    "\n",
    "지난 시간에 만들었던 neural_network에 적용해 봅시다.\n",
    "\n",
    "![](https://drek4537l1klr.cloudfront.net/trask2/Figures/f0058-01_alt.jpg)\n",
    "\n",
    "![](https://drek4537l1klr.cloudfront.net/trask2/Figures/f0058-02_alt.jpg)\n",
    "\n",
    "![](https://drek4537l1klr.cloudfront.net/trask2/Figures/f0058-03_alt.jpg)\n",
    "\n",
    "![](https://drek4537l1klr.cloudfront.net/trask2/Figures/f0059-01_alt.jpg)\n",
    "\n",
    "![](https://drek4537l1klr.cloudfront.net/trask2/Figures/f0059-02_alt.jpg)"
   ]
  },
  {
   "cell_type": "code",
   "execution_count": null,
   "metadata": {},
   "outputs": [],
   "source": [
    "weight = 0.1\n",
    "alpha = 0.01\n",
    "def neural_network(input, weight):\n",
    "    prediction = input * weight\n",
    "    return prediction\n",
    "\n",
    "print(f\"Weight_previous: {weight}\")\n",
    "number_of_toes = [8.5]\n",
    "win_or_lose_binary = [1]\n",
    "\n",
    "input = number_of_toes[0]\n",
    "true = win_or_lose_binary[0]\n",
    "\n",
    "pred = neural_network(input, weight)\n",
    "error = (pred - true) ** 2\n",
    "\n",
    "delta = pred - true\n",
    "weight_delta = input * delta\n",
    "\n",
    "weight = weight - (weight_delta * alpha)\n",
    "print(f\"Weight_current: {weight}\")"
   ]
  },
  {
   "attachments": {},
   "cell_type": "markdown",
   "metadata": {},
   "source": [
    "**alpha: \"Hyperparameter\"**"
   ]
  },
  {
   "attachments": {},
   "cell_type": "markdown",
   "metadata": {},
   "source": [
    "### 학습을 단계별로 살펴봅시다.\n",
    "\n",
    "![](https://drek4537l1klr.cloudfront.net/trask2/Figures/f0062-01_alt.jpg)\n",
    "\n",
    "![](https://drek4537l1klr.cloudfront.net/trask2/Figures/f0062-02_alt.jpg)\n",
    "\n",
    "![](https://drek4537l1klr.cloudfront.net/trask2/Figures/f0063-01_alt.jpg)\n",
    "\n",
    "![](https://drek4537l1klr.cloudfront.net/trask2/Figures/f0063-02_alt.jpg)"
   ]
  },
  {
   "cell_type": "code",
   "execution_count": null,
   "metadata": {},
   "outputs": [],
   "source": [
    "weight, y_true, input = (0.0, 0.8, 1.1)\n",
    "for iteration in range(4):\n",
    "    print(f\"Iteration: {iteration}\")\n",
    "    print(f\"Weight: {weight}\")\n",
    "    y_pred = input * weight\n",
    "    error = (y_pred - y_true) ** 2\n",
    "    delta = y_pred - y_true\n",
    "    weight_delta = input * delta\n",
    "    weight = weight - weight_delta\n",
    "    print(f\"Error: {error:.4f}, Prediction: {y_pred:.4f}\")\n",
    "    print(f\"Delta: {delta:.4f}, Weight Delta: {weight_delta:.4f}\")\n",
    "    print(\"=====================================\")\n"
   ]
  },
  {
   "attachments": {},
   "cell_type": "markdown",
   "metadata": {},
   "source": [
    "error = ((input * weight) - y_true) ** 2\n",
    "- error를 최소화하려면 어떻게 해야 할까?\n",
    "1. y_true를 바꾸면? 목표를 수정해 버리는 것.\n",
    "2. input을 바꾸면? 데이터를 바꿔버리는 것.\n",
    "3. 바꿀 수 있는 것은 weight밖에 없음. (Remind linear regression!)\n",
    "\n",
    "- 즉, 변경할 수 있는 변수: weight (가중치)\n",
    "- 변경할 수 없는 변수: input (입력 데이터), y_true (출력 데이터), error (오차)"
   ]
  },
  {
   "attachments": {},
   "cell_type": "markdown",
   "metadata": {},
   "source": [
    "### 미분 계수\n",
    "- 오차를 줄이기 위해 weight가 어디로 얼마나 가야 할지 알 수 있다!\n",
    "\n",
    "$ y = (ax - b)^2 $\n",
    "\n",
    "$ \\displaystyle \\frac{dy}{dx} = 2(ax - b) \\cdot a $\n",
    "\n",
    "- $ax-b$: 순오차\n",
    "- $a$: input\n",
    "```python\n",
    "-> weight_delta = input * delta (2는 단순상수)\n",
    "```"
   ]
  },
  {
   "attachments": {},
   "cell_type": "markdown",
   "metadata": {},
   "source": [
    "### 같은 코드로 input=2로 하여 실행해 봅시다."
   ]
  },
  {
   "cell_type": "code",
   "execution_count": null,
   "metadata": {},
   "outputs": [],
   "source": [
    "weight, y_true, input = (0.0, 0.8, 2)\n",
    "for iteration in range(4):\n",
    "    print(f\"Iteration: {iteration}\")\n",
    "    print(f\"Weight: {weight}\")\n",
    "    y_pred = input * weight\n",
    "    error = (y_pred - y_true) ** 2\n",
    "    delta = y_pred - y_true\n",
    "    weight_delta = input * delta\n",
    "    weight = weight - weight_delta\n",
    "    print(f\"Error: {error:.4f}, Prediction: {y_pred:.4f}\")\n",
    "    print(f\"Delta: {delta:.4f}, Weight Delta: {weight_delta:.4f}\")\n",
    "    print(\"=====================================\")\n"
   ]
  },
  {
   "attachments": {},
   "cell_type": "markdown",
   "metadata": {},
   "source": [
    "입력값이 클 수록 예측값은 가중치의 변화에 굉장히 민감해 집니다. why?"
   ]
  },
  {
   "cell_type": "code",
   "execution_count": null,
   "metadata": {},
   "outputs": [],
   "source": [
    "weight, y_true, input = (0.0, 0.8, 2)\n",
    "alpha = 0.1\n",
    "for iteration in range(4):\n",
    "    print(f\"Iteration: {iteration}\")\n",
    "    print(f\"Weight: {weight}\")\n",
    "    y_pred = input * weight\n",
    "    error = (y_pred - y_true) ** 2\n",
    "    delta = y_pred - y_true\n",
    "    weight_delta = input * delta\n",
    "    weight = weight - alpha*weight_delta\n",
    "    print(f\"Error: {error:.4f}, Prediction: {y_pred:.4f}\")\n",
    "    print(f\"Delta: {delta:.4f}, Weight Delta: {weight_delta:.4f}\")\n",
    "    print(\"=====================================\")\n"
   ]
  },
  {
   "attachments": {},
   "cell_type": "markdown",
   "metadata": {},
   "source": [
    "## Important!\n",
    "1. 오차의 정의 및 역할\n",
    "2. 온냉요법의 문제점\n",
    "3. 경사하강법에 있어서 미분계수의 역할\n",
    "4. 변수 alpha의 역할"
   ]
  }
 ],
 "metadata": {
  "colab": {
   "collapsed_sections": [],
   "name": "4-2 확률적 경사 하강법.ipynb",
   "provenance": []
  },
  "kernelspec": {
   "display_name": "Python 3",
   "language": "python",
   "name": "python3"
  },
  "language_info": {
   "codemirror_mode": {
    "name": "ipython",
    "version": 3
   },
   "file_extension": ".py",
   "mimetype": "text/x-python",
   "name": "python",
   "nbconvert_exporter": "python",
   "pygments_lexer": "ipython3",
   "version": "3.7.9"
  },
  "vscode": {
   "interpreter": {
    "hash": "aee8b7b246df8f9039afb4144a1f6fd8d2ca17a180786b69acc140d282b71a49"
   }
  }
 },
 "nbformat": 4,
 "nbformat_minor": 4
}
