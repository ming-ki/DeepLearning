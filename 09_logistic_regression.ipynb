{
 "cells": [
  {
   "attachments": {},
   "cell_type": "markdown",
   "metadata": {
    "id": "LlS4gyYqJVpn"
   },
   "source": [
    "# Logistic regression"
   ]
  },
  {
   "attachments": {},
   "cell_type": "markdown",
   "metadata": {
    "id": "tQBDVUjBbIsL"
   },
   "source": [
    "## Calculating probs for luckybag"
   ]
  },
  {
   "attachments": {},
   "cell_type": "markdown",
   "metadata": {
    "id": "ILi_LPl9JVpw"
   },
   "source": [
    "### Preparing data"
   ]
  },
  {
   "cell_type": "code",
   "execution_count": 3,
   "metadata": {
    "colab": {
     "base_uri": "https://localhost:8080/",
     "height": 204
    },
    "id": "Mba6QeEmLn3r",
    "outputId": "0e6132fe-0404-404c-8fbf-b28b5e870fce"
   },
   "outputs": [
    {
     "data": {
      "text/html": [
       "<div>\n",
       "<style scoped>\n",
       "    .dataframe tbody tr th:only-of-type {\n",
       "        vertical-align: middle;\n",
       "    }\n",
       "\n",
       "    .dataframe tbody tr th {\n",
       "        vertical-align: top;\n",
       "    }\n",
       "\n",
       "    .dataframe thead th {\n",
       "        text-align: right;\n",
       "    }\n",
       "</style>\n",
       "<table border=\"1\" class=\"dataframe\">\n",
       "  <thead>\n",
       "    <tr style=\"text-align: right;\">\n",
       "      <th></th>\n",
       "      <th>Species</th>\n",
       "      <th>Weight</th>\n",
       "      <th>Length</th>\n",
       "      <th>Diagonal</th>\n",
       "      <th>Height</th>\n",
       "      <th>Width</th>\n",
       "    </tr>\n",
       "  </thead>\n",
       "  <tbody>\n",
       "    <tr>\n",
       "      <th>0</th>\n",
       "      <td>Bream</td>\n",
       "      <td>242.0</td>\n",
       "      <td>25.4</td>\n",
       "      <td>30.0</td>\n",
       "      <td>11.5200</td>\n",
       "      <td>4.0200</td>\n",
       "    </tr>\n",
       "    <tr>\n",
       "      <th>1</th>\n",
       "      <td>Bream</td>\n",
       "      <td>290.0</td>\n",
       "      <td>26.3</td>\n",
       "      <td>31.2</td>\n",
       "      <td>12.4800</td>\n",
       "      <td>4.3056</td>\n",
       "    </tr>\n",
       "    <tr>\n",
       "      <th>2</th>\n",
       "      <td>Bream</td>\n",
       "      <td>340.0</td>\n",
       "      <td>26.5</td>\n",
       "      <td>31.1</td>\n",
       "      <td>12.3778</td>\n",
       "      <td>4.6961</td>\n",
       "    </tr>\n",
       "    <tr>\n",
       "      <th>3</th>\n",
       "      <td>Bream</td>\n",
       "      <td>363.0</td>\n",
       "      <td>29.0</td>\n",
       "      <td>33.5</td>\n",
       "      <td>12.7300</td>\n",
       "      <td>4.4555</td>\n",
       "    </tr>\n",
       "    <tr>\n",
       "      <th>4</th>\n",
       "      <td>Bream</td>\n",
       "      <td>430.0</td>\n",
       "      <td>29.0</td>\n",
       "      <td>34.0</td>\n",
       "      <td>12.4440</td>\n",
       "      <td>5.1340</td>\n",
       "    </tr>\n",
       "  </tbody>\n",
       "</table>\n",
       "</div>"
      ],
      "text/plain": [
       "  Species  Weight  Length  Diagonal   Height   Width\n",
       "0   Bream   242.0    25.4      30.0  11.5200  4.0200\n",
       "1   Bream   290.0    26.3      31.2  12.4800  4.3056\n",
       "2   Bream   340.0    26.5      31.1  12.3778  4.6961\n",
       "3   Bream   363.0    29.0      33.5  12.7300  4.4555\n",
       "4   Bream   430.0    29.0      34.0  12.4440  5.1340"
      ]
     },
     "execution_count": 3,
     "metadata": {},
     "output_type": "execute_result"
    }
   ],
   "source": [
    "import pandas as pd\n",
    "\n",
    "fish = pd.read_csv('https://bit.ly/fish_csv_data')\n",
    "fish.head()"
   ]
  },
  {
   "cell_type": "code",
   "execution_count": 4,
   "metadata": {
    "colab": {
     "base_uri": "https://localhost:8080/"
    },
    "id": "UWJWlRCHVWUg",
    "outputId": "12bcd63a-21f3-4b00-ae83-101f9f98c849"
   },
   "outputs": [
    {
     "name": "stdout",
     "output_type": "stream",
     "text": [
      "['Bream' 'Roach' 'Whitefish' 'Parkki' 'Perch' 'Pike' 'Smelt']\n"
     ]
    }
   ],
   "source": [
    "print(pd.unique(fish['Species']))"
   ]
  },
  {
   "cell_type": "code",
   "execution_count": 5,
   "metadata": {
    "id": "8JjMXc9wVE7C"
   },
   "outputs": [],
   "source": [
    "fish_input = fish[['Weight','Length','Diagonal','Height','Width']].to_numpy()"
   ]
  },
  {
   "cell_type": "markdown",
   "metadata": {},
   "source": [
    "### 왜 bracket을 두 개 써야 하는가?"
   ]
  },
  {
   "cell_type": "markdown",
   "metadata": {},
   "source": [
    "### 기본적으로, DataFrame의 indexing은 특정 column만 가능,\n",
    "### 그러나 DataFrame에서는 리스트로 인덱싱이 가능하도록 확장된 것임."
   ]
  },
  {
   "cell_type": "code",
   "execution_count": 6,
   "metadata": {},
   "outputs": [
    {
     "data": {
      "text/plain": [
       "0      242.0\n",
       "1      290.0\n",
       "2      340.0\n",
       "3      363.0\n",
       "4      430.0\n",
       "       ...  \n",
       "154     12.2\n",
       "155     13.4\n",
       "156     12.2\n",
       "157     19.7\n",
       "158     19.9\n",
       "Name: Weight, Length: 159, dtype: float64"
      ]
     },
     "execution_count": 6,
     "metadata": {},
     "output_type": "execute_result"
    }
   ],
   "source": [
    "fish['Weight']"
   ]
  },
  {
   "cell_type": "code",
   "execution_count": 7,
   "metadata": {},
   "outputs": [
    {
     "data": {
      "text/html": [
       "<div>\n",
       "<style scoped>\n",
       "    .dataframe tbody tr th:only-of-type {\n",
       "        vertical-align: middle;\n",
       "    }\n",
       "\n",
       "    .dataframe tbody tr th {\n",
       "        vertical-align: top;\n",
       "    }\n",
       "\n",
       "    .dataframe thead th {\n",
       "        text-align: right;\n",
       "    }\n",
       "</style>\n",
       "<table border=\"1\" class=\"dataframe\">\n",
       "  <thead>\n",
       "    <tr style=\"text-align: right;\">\n",
       "      <th></th>\n",
       "      <th>Weight</th>\n",
       "      <th>Length</th>\n",
       "    </tr>\n",
       "  </thead>\n",
       "  <tbody>\n",
       "    <tr>\n",
       "      <th>0</th>\n",
       "      <td>242.0</td>\n",
       "      <td>25.4</td>\n",
       "    </tr>\n",
       "    <tr>\n",
       "      <th>1</th>\n",
       "      <td>290.0</td>\n",
       "      <td>26.3</td>\n",
       "    </tr>\n",
       "    <tr>\n",
       "      <th>2</th>\n",
       "      <td>340.0</td>\n",
       "      <td>26.5</td>\n",
       "    </tr>\n",
       "    <tr>\n",
       "      <th>3</th>\n",
       "      <td>363.0</td>\n",
       "      <td>29.0</td>\n",
       "    </tr>\n",
       "    <tr>\n",
       "      <th>4</th>\n",
       "      <td>430.0</td>\n",
       "      <td>29.0</td>\n",
       "    </tr>\n",
       "    <tr>\n",
       "      <th>...</th>\n",
       "      <td>...</td>\n",
       "      <td>...</td>\n",
       "    </tr>\n",
       "    <tr>\n",
       "      <th>154</th>\n",
       "      <td>12.2</td>\n",
       "      <td>12.2</td>\n",
       "    </tr>\n",
       "    <tr>\n",
       "      <th>155</th>\n",
       "      <td>13.4</td>\n",
       "      <td>12.4</td>\n",
       "    </tr>\n",
       "    <tr>\n",
       "      <th>156</th>\n",
       "      <td>12.2</td>\n",
       "      <td>13.0</td>\n",
       "    </tr>\n",
       "    <tr>\n",
       "      <th>157</th>\n",
       "      <td>19.7</td>\n",
       "      <td>14.3</td>\n",
       "    </tr>\n",
       "    <tr>\n",
       "      <th>158</th>\n",
       "      <td>19.9</td>\n",
       "      <td>15.0</td>\n",
       "    </tr>\n",
       "  </tbody>\n",
       "</table>\n",
       "<p>159 rows × 2 columns</p>\n",
       "</div>"
      ],
      "text/plain": [
       "     Weight  Length\n",
       "0     242.0    25.4\n",
       "1     290.0    26.3\n",
       "2     340.0    26.5\n",
       "3     363.0    29.0\n",
       "4     430.0    29.0\n",
       "..      ...     ...\n",
       "154    12.2    12.2\n",
       "155    13.4    12.4\n",
       "156    12.2    13.0\n",
       "157    19.7    14.3\n",
       "158    19.9    15.0\n",
       "\n",
       "[159 rows x 2 columns]"
      ]
     },
     "execution_count": 7,
     "metadata": {},
     "output_type": "execute_result"
    }
   ],
   "source": [
    "fish[['Weight', 'Length']]"
   ]
  },
  {
   "cell_type": "code",
   "execution_count": 8,
   "metadata": {
    "colab": {
     "base_uri": "https://localhost:8080/"
    },
    "id": "1T6C1d5iMzb8",
    "outputId": "e4ff2e5f-821e-4c2b-e50f-1b9b03486684",
    "scrolled": true
   },
   "outputs": [
    {
     "name": "stdout",
     "output_type": "stream",
     "text": [
      "[[242.      25.4     30.      11.52     4.02  ]\n",
      " [290.      26.3     31.2     12.48     4.3056]\n",
      " [340.      26.5     31.1     12.3778   4.6961]\n",
      " [363.      29.      33.5     12.73     4.4555]\n",
      " [430.      29.      34.      12.444    5.134 ]]\n"
     ]
    }
   ],
   "source": [
    "print(fish_input[:5])"
   ]
  },
  {
   "cell_type": "markdown",
   "metadata": {},
   "source": [
    "### 아래는 하나니까 가능!"
   ]
  },
  {
   "cell_type": "code",
   "execution_count": 9,
   "metadata": {
    "id": "aB2oHhojTfWE"
   },
   "outputs": [],
   "source": [
    "fish_target = fish['Species'].to_numpy()"
   ]
  },
  {
   "cell_type": "code",
   "execution_count": 10,
   "metadata": {
    "id": "dkllezAJW63K"
   },
   "outputs": [],
   "source": [
    "from sklearn.model_selection import train_test_split\n",
    "\n",
    "train_input, test_input, train_target, test_target = train_test_split(\n",
    "    fish_input, fish_target, random_state=42)"
   ]
  },
  {
   "cell_type": "code",
   "execution_count": 11,
   "metadata": {
    "id": "H0ujq0BjXpfp"
   },
   "outputs": [],
   "source": [
    "from sklearn.preprocessing import StandardScaler\n",
    "\n",
    "ss = StandardScaler()\n",
    "ss.fit(train_input)\n",
    "train_scaled = ss.transform(train_input)\n",
    "test_scaled = ss.transform(test_input)"
   ]
  },
  {
   "cell_type": "markdown",
   "metadata": {},
   "source": [
    "### Scaling이 잘 되었는가?"
   ]
  },
  {
   "cell_type": "code",
   "execution_count": 12,
   "metadata": {},
   "outputs": [
    {
     "data": {
      "text/html": [
       "<div>\n",
       "<style scoped>\n",
       "    .dataframe tbody tr th:only-of-type {\n",
       "        vertical-align: middle;\n",
       "    }\n",
       "\n",
       "    .dataframe tbody tr th {\n",
       "        vertical-align: top;\n",
       "    }\n",
       "\n",
       "    .dataframe thead th {\n",
       "        text-align: right;\n",
       "    }\n",
       "</style>\n",
       "<table border=\"1\" class=\"dataframe\">\n",
       "  <thead>\n",
       "    <tr style=\"text-align: right;\">\n",
       "      <th></th>\n",
       "      <th>0</th>\n",
       "      <th>1</th>\n",
       "      <th>2</th>\n",
       "      <th>3</th>\n",
       "      <th>4</th>\n",
       "    </tr>\n",
       "  </thead>\n",
       "  <tbody>\n",
       "    <tr>\n",
       "      <th>count</th>\n",
       "      <td>1.190000e+02</td>\n",
       "      <td>1.190000e+02</td>\n",
       "      <td>1.190000e+02</td>\n",
       "      <td>1.190000e+02</td>\n",
       "      <td>1.190000e+02</td>\n",
       "    </tr>\n",
       "    <tr>\n",
       "      <th>mean</th>\n",
       "      <td>-2.248435e-16</td>\n",
       "      <td>-7.813544e-18</td>\n",
       "      <td>-4.051381e-16</td>\n",
       "      <td>-7.277092e-16</td>\n",
       "      <td>7.598963e-16</td>\n",
       "    </tr>\n",
       "    <tr>\n",
       "      <th>std</th>\n",
       "      <td>1.004228e+00</td>\n",
       "      <td>1.004228e+00</td>\n",
       "      <td>1.004228e+00</td>\n",
       "      <td>1.004228e+00</td>\n",
       "      <td>1.004228e+00</td>\n",
       "    </tr>\n",
       "    <tr>\n",
       "      <th>min</th>\n",
       "      <td>-1.106964e+00</td>\n",
       "      <td>-1.883261e+00</td>\n",
       "      <td>-1.951690e+00</td>\n",
       "      <td>-1.701598e+00</td>\n",
       "      <td>-2.011547e+00</td>\n",
       "    </tr>\n",
       "    <tr>\n",
       "      <th>25%</th>\n",
       "      <td>-7.691939e-01</td>\n",
       "      <td>-7.025120e-01</td>\n",
       "      <td>-7.226413e-01</td>\n",
       "      <td>-7.205193e-01</td>\n",
       "      <td>-5.977466e-01</td>\n",
       "    </tr>\n",
       "    <tr>\n",
       "      <th>50%</th>\n",
       "      <td>-2.906859e-01</td>\n",
       "      <td>-9.339528e-02</td>\n",
       "      <td>-1.102885e-01</td>\n",
       "      <td>-2.920133e-01</td>\n",
       "      <td>-7.667705e-02</td>\n",
       "    </tr>\n",
       "    <tr>\n",
       "      <th>75%</th>\n",
       "      <td>6.804038e-01</td>\n",
       "      <td>6.562869e-01</td>\n",
       "      <td>7.192107e-01</td>\n",
       "      <td>6.822007e-01</td>\n",
       "      <td>7.694209e-01</td>\n",
       "    </tr>\n",
       "    <tr>\n",
       "      <th>max</th>\n",
       "      <td>3.537378e+00</td>\n",
       "      <td>3.270803e+00</td>\n",
       "      <td>3.190337e+00</td>\n",
       "      <td>2.442750e+00</td>\n",
       "      <td>2.040518e+00</td>\n",
       "    </tr>\n",
       "  </tbody>\n",
       "</table>\n",
       "</div>"
      ],
      "text/plain": [
       "                  0             1             2             3             4\n",
       "count  1.190000e+02  1.190000e+02  1.190000e+02  1.190000e+02  1.190000e+02\n",
       "mean  -2.248435e-16 -7.813544e-18 -4.051381e-16 -7.277092e-16  7.598963e-16\n",
       "std    1.004228e+00  1.004228e+00  1.004228e+00  1.004228e+00  1.004228e+00\n",
       "min   -1.106964e+00 -1.883261e+00 -1.951690e+00 -1.701598e+00 -2.011547e+00\n",
       "25%   -7.691939e-01 -7.025120e-01 -7.226413e-01 -7.205193e-01 -5.977466e-01\n",
       "50%   -2.906859e-01 -9.339528e-02 -1.102885e-01 -2.920133e-01 -7.667705e-02\n",
       "75%    6.804038e-01  6.562869e-01  7.192107e-01  6.822007e-01  7.694209e-01\n",
       "max    3.537378e+00  3.270803e+00  3.190337e+00  2.442750e+00  2.040518e+00"
      ]
     },
     "execution_count": 12,
     "metadata": {},
     "output_type": "execute_result"
    }
   ],
   "source": [
    "pd.DataFrame(train_scaled).describe()"
   ]
  },
  {
   "cell_type": "markdown",
   "metadata": {
    "id": "oAxk-V5kQcgc"
   },
   "source": [
    "### k-최근접 이웃 분류기의 확률 예측"
   ]
  },
  {
   "cell_type": "code",
   "execution_count": 13,
   "metadata": {
    "colab": {
     "base_uri": "https://localhost:8080/"
    },
    "id": "BYWTNPOdXOfr",
    "outputId": "b9b209bc-0331-4a53-9a33-3a0abb8e5108"
   },
   "outputs": [
    {
     "name": "stdout",
     "output_type": "stream",
     "text": [
      "0.8907563025210085\n",
      "0.85\n"
     ]
    }
   ],
   "source": [
    "from sklearn.neighbors import KNeighborsClassifier\n",
    "\n",
    "kn = KNeighborsClassifier(n_neighbors=3)\n",
    "kn.fit(train_scaled, train_target)\n",
    "\n",
    "print(kn.score(train_scaled, train_target))\n",
    "print(kn.score(test_scaled, test_target))"
   ]
  },
  {
   "cell_type": "code",
   "execution_count": 14,
   "metadata": {
    "colab": {
     "base_uri": "https://localhost:8080/"
    },
    "id": "a879-O42RhFO",
    "outputId": "8670d6db-7692-416d-a78b-445c6f3ecfc0"
   },
   "outputs": [
    {
     "name": "stdout",
     "output_type": "stream",
     "text": [
      "['Bream' 'Parkki' 'Perch' 'Pike' 'Roach' 'Smelt' 'Whitefish']\n"
     ]
    }
   ],
   "source": [
    "print(kn.classes_)"
   ]
  },
  {
   "cell_type": "code",
   "execution_count": 15,
   "metadata": {
    "colab": {
     "base_uri": "https://localhost:8080/"
    },
    "id": "EucmtF8HVOS_",
    "outputId": "bf8c96fb-6790-4fd8-ce66-1f531070129a"
   },
   "outputs": [
    {
     "name": "stdout",
     "output_type": "stream",
     "text": [
      "['Perch' 'Smelt' 'Pike' 'Perch' 'Perch']\n"
     ]
    }
   ],
   "source": [
    "print(kn.predict(test_scaled[:5]))"
   ]
  },
  {
   "cell_type": "code",
   "execution_count": 16,
   "metadata": {
    "colab": {
     "base_uri": "https://localhost:8080/"
    },
    "id": "OSDr8WSKXbUa",
    "outputId": "627f6ba0-1c2d-483a-a9db-13f53df4d6ac"
   },
   "outputs": [
    {
     "name": "stdout",
     "output_type": "stream",
     "text": [
      "[[0.     0.     1.     0.     0.     0.     0.    ]\n",
      " [0.     0.     0.     0.     0.     1.     0.    ]\n",
      " [0.     0.     0.     1.     0.     0.     0.    ]\n",
      " [0.     0.     0.6667 0.     0.3333 0.     0.    ]\n",
      " [0.     0.     0.6667 0.     0.3333 0.     0.    ]]\n"
     ]
    }
   ],
   "source": [
    "import numpy as np\n",
    "\n",
    "proba = kn.predict_proba(test_scaled[:5])\n",
    "print(np.round(proba, decimals=4))"
   ]
  },
  {
   "cell_type": "code",
   "execution_count": 17,
   "metadata": {
    "colab": {
     "base_uri": "https://localhost:8080/"
    },
    "id": "Hk-ywsfKkf7t",
    "outputId": "92326fa0-d6f6-40b5-f4a1-92fe0ea73c81"
   },
   "outputs": [
    {
     "name": "stdout",
     "output_type": "stream",
     "text": [
      "[['Roach' 'Perch' 'Perch']]\n"
     ]
    }
   ],
   "source": [
    "distances, indexes = kn.kneighbors(test_scaled[3:4])\n",
    "print(train_target[indexes])"
   ]
  },
  {
   "cell_type": "markdown",
   "metadata": {
    "id": "Q9_wuI_0tEqL"
   },
   "source": [
    "## 로지스틱 회귀"
   ]
  },
  {
   "cell_type": "code",
   "execution_count": 18,
   "metadata": {
    "colab": {
     "base_uri": "https://localhost:8080/",
     "height": 279
    },
    "id": "8rdDSaZ5uji2",
    "outputId": "34531e78-efc6-45ec-e4a1-8b8b4e0c61b5"
   },
   "outputs": [
    {
     "data": {
      "image/png": "[encoded data removed]",
      "text/plain": [
       "<Figure size 960x720 with 1 Axes>"
      ]
     },
     "metadata": {},
     "output_type": "display_data"
    }
   ],
   "source": [
    "import numpy as np\n",
    "import matplotlib as mpl\n",
    "import matplotlib.pyplot as plt\n",
    "mpl.rcParams['figure.dpi'] = 150\n",
    "\n",
    "z = np.arange(-5, 5, 0.1)\n",
    "phi = 1 / (1 + np.exp(-z))\n",
    "\n",
    "plt.plot(z, phi)\n",
    "plt.xlabel('z')\n",
    "plt.ylabel('phi')\n",
    "plt.title('Sigmoid function')\n",
    "plt.show()"
   ]
  },
  {
   "cell_type": "markdown",
   "metadata": {
    "id": "1J6LGKpUJbFE"
   },
   "source": [
    "### 로지스틱 회귀로 이진 분류 수행하기"
   ]
  },
  {
   "cell_type": "code",
   "execution_count": 19,
   "metadata": {
    "colab": {
     "base_uri": "https://localhost:8080/"
    },
    "id": "JeR5cA_fIe24",
    "outputId": "0c90e726-e1d6-4548-b900-9c6baf267ffd"
   },
   "outputs": [
    {
     "name": "stdout",
     "output_type": "stream",
     "text": [
      "['A' 'C']\n"
     ]
    }
   ],
   "source": [
    "char_arr = np.array(['A', 'B', 'C', 'D', 'E'])\n",
    "print(char_arr[[True, False, True, False, False]])"
   ]
  },
  {
   "cell_type": "code",
   "execution_count": 20,
   "metadata": {
    "id": "Khxh-3t5-2Tk"
   },
   "outputs": [],
   "source": [
    "bream_smelt_indexes = (train_target == 'Bream') | (train_target == 'Smelt')\n",
    "train_bream_smelt = train_scaled[bream_smelt_indexes]\n",
    "target_bream_smelt = train_target[bream_smelt_indexes]"
   ]
  },
  {
   "cell_type": "code",
   "execution_count": 21,
   "metadata": {
    "colab": {
     "base_uri": "https://localhost:8080/"
    },
    "id": "jEzP0aeXANra",
    "outputId": "2e73610b-6d2e-48fe-cd23-1e5f29d6d8ad"
   },
   "outputs": [
    {
     "data": {
      "text/plain": [
       "LogisticRegression()"
      ]
     },
     "execution_count": 21,
     "metadata": {},
     "output_type": "execute_result"
    }
   ],
   "source": [
    "from sklearn.linear_model import LogisticRegression\n",
    "\n",
    "lr = LogisticRegression()\n",
    "lr.fit(train_bream_smelt, target_bream_smelt)"
   ]
  },
  {
   "cell_type": "code",
   "execution_count": 22,
   "metadata": {
    "colab": {
     "base_uri": "https://localhost:8080/"
    },
    "id": "VtEWtsB7EIgm",
    "outputId": "604d2478-331c-4231-dd9d-f09216308ab9"
   },
   "outputs": [
    {
     "name": "stdout",
     "output_type": "stream",
     "text": [
      "['Bream' 'Smelt' 'Bream' 'Bream' 'Bream']\n"
     ]
    }
   ],
   "source": [
    "print(lr.predict(train_bream_smelt[:5]))"
   ]
  },
  {
   "cell_type": "code",
   "execution_count": 23,
   "metadata": {
    "colab": {
     "base_uri": "https://localhost:8080/"
    },
    "id": "3H_qieV-_CTt",
    "outputId": "a5f9ba31-c408-48d2-8231-31ddfdb9ea4a"
   },
   "outputs": [
    {
     "name": "stdout",
     "output_type": "stream",
     "text": [
      "[[0.99759855 0.00240145]\n",
      " [0.02735183 0.97264817]\n",
      " [0.99486072 0.00513928]\n",
      " [0.98584202 0.01415798]\n",
      " [0.99767269 0.00232731]]\n"
     ]
    }
   ],
   "source": [
    "print(lr.predict_proba(train_bream_smelt[:5]))"
   ]
  },
  {
   "cell_type": "code",
   "execution_count": 24,
   "metadata": {
    "colab": {
     "base_uri": "https://localhost:8080/"
    },
    "id": "Mm60bpr7EQKU",
    "outputId": "77267b3d-69d7-42e5-9dc8-a44f652cc06f"
   },
   "outputs": [
    {
     "name": "stdout",
     "output_type": "stream",
     "text": [
      "['Bream' 'Smelt']\n"
     ]
    }
   ],
   "source": [
    "print(lr.classes_)"
   ]
  },
  {
   "cell_type": "code",
   "execution_count": 25,
   "metadata": {
    "colab": {
     "base_uri": "https://localhost:8080/"
    },
    "id": "1mvoYhUVQmFY",
    "outputId": "265ed14d-106d-4675-ee81-51b826175992"
   },
   "outputs": [
    {
     "name": "stdout",
     "output_type": "stream",
     "text": [
      "[[-0.4037798  -0.57620209 -0.66280298 -1.01290277 -0.73168947]] [-2.16155132]\n"
     ]
    }
   ],
   "source": [
    "print(lr.coef_, lr.intercept_)"
   ]
  },
  {
   "cell_type": "code",
   "execution_count": 26,
   "metadata": {
    "colab": {
     "base_uri": "https://localhost:8080/"
    },
    "id": "SxrRy9m8A5Hy",
    "outputId": "bf42de57-9f93-4f4b-fc1a-a04eb19be25d"
   },
   "outputs": [
    {
     "name": "stdout",
     "output_type": "stream",
     "text": [
      "[-6.02927744  3.57123907 -5.26568906 -4.24321775 -6.0607117 ]\n"
     ]
    }
   ],
   "source": [
    "decisions = lr.decision_function(train_bream_smelt[:5])\n",
    "print(decisions)"
   ]
  },
  {
   "cell_type": "code",
   "execution_count": 27,
   "metadata": {
    "colab": {
     "base_uri": "https://localhost:8080/"
    },
    "id": "SeuhSRuiA9yZ",
    "outputId": "f70c9be9-54df-48e3-e0d7-752cb47a17d7"
   },
   "outputs": [
    {
     "name": "stdout",
     "output_type": "stream",
     "text": [
      "[0.00240145 0.97264817 0.00513928 0.01415798 0.00232731]\n"
     ]
    }
   ],
   "source": [
    "from scipy.special import expit\n",
    "\n",
    "print(expit(decisions))"
   ]
  },
  {
   "cell_type": "markdown",
   "metadata": {
    "id": "6ee-s4l7EuVo"
   },
   "source": [
    "### 로지스틱 회귀로 다중 분류 수행하기"
   ]
  },
  {
   "cell_type": "code",
   "execution_count": 28,
   "metadata": {
    "colab": {
     "base_uri": "https://localhost:8080/"
    },
    "id": "7QugsbD2X8bf",
    "outputId": "9d2a151d-ec02-4127-f68a-8a82ff8be318"
   },
   "outputs": [
    {
     "name": "stdout",
     "output_type": "stream",
     "text": [
      "0.9327731092436975\n",
      "0.925\n"
     ]
    }
   ],
   "source": [
    "lr = LogisticRegression(C=20, max_iter=1000)\n",
    "lr.fit(train_scaled, train_target)\n",
    "\n",
    "print(lr.score(train_scaled, train_target))\n",
    "print(lr.score(test_scaled, test_target))"
   ]
  },
  {
   "cell_type": "code",
   "execution_count": 29,
   "metadata": {
    "colab": {
     "base_uri": "https://localhost:8080/"
    },
    "id": "0taO0XnF9dha",
    "outputId": "f9e92d6e-5eef-4fc7-a962-847f83b3d2ad"
   },
   "outputs": [
    {
     "name": "stdout",
     "output_type": "stream",
     "text": [
      "['Perch' 'Smelt' 'Pike' 'Roach' 'Perch']\n"
     ]
    }
   ],
   "source": [
    "print(lr.predict(test_scaled[:5]))"
   ]
  },
  {
   "cell_type": "code",
   "execution_count": 30,
   "metadata": {
    "colab": {
     "base_uri": "https://localhost:8080/"
    },
    "id": "pqZosYezZOi3",
    "outputId": "d4bc2673-e966-4933-81ec-1a26b3d83a8d"
   },
   "outputs": [
    {
     "name": "stdout",
     "output_type": "stream",
     "text": [
      "[[0.    0.014 0.841 0.    0.136 0.007 0.003]\n",
      " [0.    0.003 0.044 0.    0.007 0.946 0.   ]\n",
      " [0.    0.    0.034 0.935 0.015 0.016 0.   ]\n",
      " [0.011 0.034 0.306 0.007 0.567 0.    0.076]\n",
      " [0.    0.    0.904 0.002 0.089 0.002 0.001]]\n"
     ]
    }
   ],
   "source": [
    "proba = lr.predict_proba(test_scaled[:5])\n",
    "print(np.round(proba, decimals=3))"
   ]
  },
  {
   "cell_type": "code",
   "execution_count": 31,
   "metadata": {
    "colab": {
     "base_uri": "https://localhost:8080/"
    },
    "id": "CXASv4WU87UF",
    "outputId": "f65f2234-5fe4-4d6c-a9ab-08627c730fbf"
   },
   "outputs": [
    {
     "name": "stdout",
     "output_type": "stream",
     "text": [
      "['Bream' 'Parkki' 'Perch' 'Pike' 'Roach' 'Smelt' 'Whitefish']\n"
     ]
    }
   ],
   "source": [
    "print(lr.classes_)"
   ]
  },
  {
   "cell_type": "code",
   "execution_count": 32,
   "metadata": {
    "colab": {
     "base_uri": "https://localhost:8080/"
    },
    "id": "1swPv6ZOZTjg",
    "outputId": "bb129ce3-7500-4df2-dede-c06cdfe22041"
   },
   "outputs": [
    {
     "name": "stdout",
     "output_type": "stream",
     "text": [
      "(7, 5) (7,)\n"
     ]
    }
   ],
   "source": [
    "print(lr.coef_.shape, lr.intercept_.shape)"
   ]
  },
  {
   "cell_type": "code",
   "execution_count": 33,
   "metadata": {
    "colab": {
     "base_uri": "https://localhost:8080/"
    },
    "id": "s9iRz1iAd7Oe",
    "outputId": "646831e9-4077-4d05-a899-1d341487be7f"
   },
   "outputs": [
    {
     "name": "stdout",
     "output_type": "stream",
     "text": [
      "[[ -6.5    1.03   5.16  -2.73   3.34   0.33  -0.63]\n",
      " [-10.86   1.93   4.77  -2.4    2.98   7.84  -4.26]\n",
      " [ -4.34  -6.23   3.17   6.49   2.36   2.42  -3.87]\n",
      " [ -0.68   0.45   2.65  -1.19   3.26  -5.75   1.26]\n",
      " [ -6.4   -1.99   5.82  -0.11   3.5   -0.11  -0.71]]\n"
     ]
    }
   ],
   "source": [
    "decision = lr.decision_function(test_scaled[:5])\n",
    "print(np.round(decision, decimals=2))"
   ]
  },
  {
   "cell_type": "code",
   "execution_count": 34,
   "metadata": {
    "colab": {
     "base_uri": "https://localhost:8080/"
    },
    "id": "49CcsDHZeJma",
    "outputId": "c707d169-6860-47c3-dd2c-35d650b7a875"
   },
   "outputs": [
    {
     "name": "stdout",
     "output_type": "stream",
     "text": [
      "[[0.    0.014 0.841 0.    0.136 0.007 0.003]\n",
      " [0.    0.003 0.044 0.    0.007 0.946 0.   ]\n",
      " [0.    0.    0.034 0.935 0.015 0.016 0.   ]\n",
      " [0.011 0.034 0.306 0.007 0.567 0.    0.076]\n",
      " [0.    0.    0.904 0.002 0.089 0.002 0.001]]\n"
     ]
    }
   ],
   "source": [
    "from scipy.special import softmax\n",
    "\n",
    "proba = softmax(decision, axis=1)\n",
    "print(np.round(proba, decimals=3))"
   ]
  },
  {
   "cell_type": "code",
   "execution_count": 35,
   "metadata": {},
   "outputs": [
    {
     "name": "stdout",
     "output_type": "stream",
     "text": [
      "[[0.    0.014 0.841 0.    0.136 0.007 0.003]\n",
      " [0.    0.003 0.044 0.    0.007 0.946 0.   ]\n",
      " [0.    0.    0.034 0.935 0.015 0.016 0.   ]\n",
      " [0.011 0.034 0.306 0.007 0.567 0.    0.076]\n",
      " [0.    0.    0.904 0.002 0.089 0.002 0.001]]\n"
     ]
    }
   ],
   "source": [
    "print(np.round(lr.predict_proba(test_scaled[:5]), decimals=3))"
   ]
  },
  {
   "attachments": {},
   "cell_type": "markdown",
   "metadata": {},
   "source": [
    "## Important!\n",
    "1. Logistic function\n",
    "- Strictly, logistic function is a part of sigmoid (i.e., S-shaped) function\n",
    "    - Logistic function, Hyperbolic tangent, Arctan, Error function, ...\n",
    "- $\\mathbb{R} \\rightarrow (0, 1)$\n",
    "- ${\\displaystyle \\phi = \\frac{1}{1+e^{-z}}}$\n",
    "- ${\\displaystyle \\phi' = \\phi(1-\\phi)}$\n",
    "![](https://miro.medium.com/v2/resize:fit:1100/format:webp/1*JHWL_71qml0kP_Imyx4zBg.png)\n",
    "2. Softmax function\n",
    "- Softmax function converts a vector of $K$ real numbers into a probability distribution of $K$ possible outcomes.\n",
    "- It is a vector-to-vector function\n",
    "- ${\\displaystyle \\sigma (\\mathbf {z} )_{i}={\\frac {e^{z_{i}}}{\\sum _{j=1}^{K}e^{z_{j}}}}\\ \\ {\\text{ for }}i=1,\\dotsc ,K{\\text{ and }}\\mathbf {z} =(z_{1},\\dotsc ,z_{K})\\in \\mathbb {R} ^{K}.}$\n",
    "- $\\mathbb{R}^K \\rightarrow (0, 1)^K$"
   ]
  }
 ],
 "metadata": {
  "colab": {
   "collapsed_sections": [],
   "name": "4-1 로지스틱 회귀.ipynb",
   "provenance": []
  },
  "kernelspec": {
   "display_name": "Python 3.7.9 64-bit",
   "language": "python",
   "name": "python3"
  },
  "language_info": {
   "codemirror_mode": {
    "name": "ipython",
    "version": 3
   },
   "file_extension": ".py",
   "mimetype": "text/x-python",
   "name": "python",
   "nbconvert_exporter": "python",
   "pygments_lexer": "ipython3",
   "version": "3.7.9"
  },
  "vscode": {
   "interpreter": {
    "hash": "aee8b7b246df8f9039afb4144a1f6fd8d2ca17a180786b69acc140d282b71a49"
   }
  }
 },
 "nbformat": 4,
 "nbformat_minor": 4
}
