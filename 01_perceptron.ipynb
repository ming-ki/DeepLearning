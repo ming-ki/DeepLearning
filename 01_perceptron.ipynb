{
 "cells": [
  {
   "attachments": {},
   "cell_type": "markdown",
   "metadata": {
    "id": "L5ALSPQSJp-n"
   },
   "source": [
    "# Perceptron"
   ]
  },
  {
   "attachments": {},
   "cell_type": "markdown",
   "metadata": {},
   "source": [
    "* 인공신경망의 구조\n",
    "    - 입력층과 출력층으로 구성\n",
    "    - <u> 즉, 함수가 하는 역할과 일치함. </u>\n",
    "    - 선형 회귀를 떠올려 봅시다.\n",
    "* 퍼셉트론이란?\n",
    "    - \"얕은\" 신경망\n",
    "    - $ {\\displaystyle f(\\mathbf {x} )={\\begin{cases}1&{\\text{if }}\\ \\mathbf {w} \\cdot \\mathbf {x} +b>0,\\\\0&{\\text{otherwise}}\\end{cases}}} $\n",
    "        - where $\\mathbf{w}$ is the weight tensor and b is biases\n",
    "        - 활성화 함수activation function도 고려해야 하지만, 얘는 나중에 얘기합시다.\n",
    "    \n",
    "    ![perceptron](https://miro.medium.com/max/1290/1*YPguig_eDkgWi5cgvWiUBg.png)\n",
    "    - 이후는 신경망으로 통칭합니다."
   ]
  },
  {
   "attachments": {},
   "cell_type": "markdown",
   "metadata": {},
   "source": [
    "## 단순한 **예측** 신경망\n",
    "* 야구 팀의 데이터를 기반으로 승률을 출력해 봅시다. (말이 되는지는 우선 제쳐두고...)\n",
    "\n",
    "![](https://drek4537l1klr.cloudfront.net/trask2/Figures/f0022-01.jpg)"
   ]
  },
  {
   "attachments": {},
   "cell_type": "markdown",
   "metadata": {},
   "source": [
    "* 우선, 데이터 요소 1개 (출전 선수의 숫자)로 예측 결과 1개를 출력합시다.\n",
    "\n",
    "![](https://drek4537l1klr.cloudfront.net/trask2/Figures/f0023-02.jpg)"
   ]
  },
  {
   "cell_type": "code",
   "execution_count": null,
   "metadata": {},
   "outputs": [],
   "source": [
    "weight = 0.1\n",
    "def neural_network(weight, input):\n",
    "    prediction = input * weight\n",
    "    return prediction"
   ]
  },
  {
   "cell_type": "code",
   "execution_count": null,
   "metadata": {},
   "outputs": [],
   "source": [
    "# 입력 데이터 하나 집어넣기\n",
    "number_of_toes = [8.5]\n",
    "input = number_of_toes[0]\n",
    "pred = neural_network(weight, input)\n",
    "print(pred)"
   ]
  },
  {
   "attachments": {},
   "cell_type": "markdown",
   "metadata": {},
   "source": [
    "### 신경망이 하는 일\n",
    "- 입력에 가중치를 곱해서 출력\n",
    "- 가중치는 입력의 출력에 대한 '민감도'라고 생각할 수 있음"
   ]
  },
  {
   "attachments": {},
   "cell_type": "markdown",
   "metadata": {},
   "source": [
    "![](https://drek4537l1klr.cloudfront.net/trask2/Figures/f0026-01_alt.jpg)\n",
    "\n",
    "![](https://drek4537l1klr.cloudfront.net/trask2/Figures/f0026-02_alt.jpg)\n",
    "\n",
    "![](https://drek4537l1klr.cloudfront.net/trask2/Figures/f0027-01_alt.jpg)\n",
    "\n",
    "![](https://drek4537l1klr.cloudfront.net/trask2/Figures/f0027-02_alt.jpg)"
   ]
  },
  {
   "attachments": {},
   "cell_type": "markdown",
   "metadata": {},
   "source": [
    "## 아주 약간 더 복잡한 인공신경망\n",
    "* 복수의 입력을 받아 예측해 봅시다."
   ]
  },
  {
   "attachments": {},
   "cell_type": "markdown",
   "metadata": {},
   "source": [
    "![](https://drek4537l1klr.cloudfront.net/trask2/Figures/f0030-01_alt.jpg)\n",
    "\n",
    "![](https://drek4537l1klr.cloudfront.net/trask2/Figures/f0031-01_alt.jpg)\n",
    "\n",
    "![](https://drek4537l1klr.cloudfront.net/trask2/Figures/f0032-01_alt.jpg)\n",
    "\n",
    "![](https://drek4537l1klr.cloudfront.net/trask2/Figures/f0029-02_alt.jpg)"
   ]
  },
  {
   "cell_type": "code",
   "execution_count": null,
   "metadata": {},
   "outputs": [],
   "source": [
    "# Prediction from scratch\n",
    "weight = [0.1, 0.2, 0]\n",
    "\n",
    "def w_sum(a, b):\n",
    "    assert(len(a) == len(b))\n",
    "    output = 0\n",
    "    for i in range(len(a)):\n",
    "        output += (a[i] * b[i])\n",
    "    return output\n",
    "\n",
    "def neural_network(weight, inputs):\n",
    "    pred = w_sum(weight, inputs)\n",
    "    return pred\n",
    "\n",
    "toes = [8.5, 9.5, 9.9, 9.0]\n",
    "wlrec = [0.65, 0.8, 0.8, 0.9]\n",
    "nfans = [1.2, 1.3, 0.5, 1.0]\n",
    "\n",
    "input = [toes[0], wlrec[0], nfans[0]]\n",
    "\n",
    "pred = neural_network(weight, input)\n",
    "print(pred)"
   ]
  },
  {
   "cell_type": "code",
   "execution_count": null,
   "metadata": {},
   "outputs": [],
   "source": [
    "#Prediction using numpy\n",
    "import numpy as np\n",
    "\n",
    "weight = np.array([0.1, 0.2, 0])\n",
    "\n",
    "def neural_network(weight, input):\n",
    "    # pred = input.dot(weights)\n",
    "    pred = np.dot(weight, input)\n",
    "    return pred\n",
    "\n",
    "toes = np.array([8.5, 9.5, 9.9, 9.0])\n",
    "wlrec = np.array([0.65, 0.8, 0.8, 0.9])\n",
    "nfans = np.array([1.2, 1.3, 0.5, 1.0])\n",
    "\n",
    "input = np.array([toes[0],wlrec[0],nfans[0]])\n",
    "pred = neural_network(weight, input)\n",
    "print(pred)"
   ]
  },
  {
   "cell_type": "code",
   "execution_count": null,
   "metadata": {},
   "outputs": [],
   "source": [
    "# Prediction using numpy with matrix multiplication\n",
    "import numpy as np\n",
    "\n",
    "# https://numpy.org/doc/stable/reference/generated/numpy.array.html\n",
    "weight = np.array([0.1, 0.2, 0], ndmin=2)\n",
    "\n",
    "toes = np.array([8.5, 9.5, 9.9, 9.0])\n",
    "wlrec = np.array([0.65, 0.8, 0.8, 0.9])\n",
    "nfans = np.array([1.2, 1.3, 0.5, 1.0])\n",
    "\n",
    "input = np.array([toes[0], wlrec[0], nfans[0]], ndmin=2).T    # 하나의 요소로 ndarray를 만드는 경우 transpose를 해줘야 함\n",
    "# input = np.array([toes, wlrec, nfans], ndmin=2)\n",
    "\n",
    "print(f\"Shape of weight: {weight.shape}\")\n",
    "print(f\"Shape of input: {input.shape}\")\n",
    "\n",
    "# https://numpy.org/doc/stable/reference/generated/numpy.matmul.html\n",
    "# pred = weight @ input\n",
    "# pred = np.dot(weight, input)\n",
    "pred = np.matmul(weight, input)\n",
    "\n",
    "print(pred)"
   ]
  },
  {
   "attachments": {},
   "cell_type": "markdown",
   "metadata": {},
   "source": [
    "* 입력값 3개를 가중치 3개와 각각 곱하여 더함 --> \"가중합\"\n",
    "    - 즉, 벡터의 내적 (dot product)\n",
    "        - 또는, 그냥 행렬곱이라고 간주해도 무방함.\n",
    "    - 요소별element-wise 연산은 numpy 등의 패키지를 통해 쉽게 구현 가능\n",
    "* 신경망은, <u>입력값과 가중치의 유사성</u>을 근거로 복수 입력값들의 입력에 높은 가산점을 준다.\n",
    "\n",
    "1. 위 예제에서, 입력값 중 가장 민감한 입력값은 무엇인가요?\n",
    "2. 예측 결과에 있어서 가장 지배적인 힘을 발휘하는 입력값은 무엇인가요?"
   ]
  },
  {
   "attachments": {},
   "cell_type": "markdown",
   "metadata": {},
   "source": [
    "## 하나의 입력으로 복수 출력을 하는 예측\n",
    "* numpy를 활용하여 만들어 봅시다.\n",
    "* **주의: neural_network 함수를 만들 때 weights, input 순서로 만들기 바랍니다.**"
   ]
  },
  {
   "attachments": {},
   "cell_type": "markdown",
   "metadata": {},
   "source": [
    "![](https://drek4537l1klr.cloudfront.net/trask2/Figures/f0036-01_alt.jpg)\n",
    "\n",
    "![](https://drek4537l1klr.cloudfront.net/trask2/Figures/f0036-02_alt.jpg)\n",
    "\n",
    "![](https://drek4537l1klr.cloudfront.net/trask2/Figures/f0037-01_alt.jpg)\n",
    "\n",
    "![](https://drek4537l1klr.cloudfront.net/trask2/Figures/f0037-02_alt.jpg)"
   ]
  },
  {
   "attachments": {},
   "cell_type": "markdown",
   "metadata": {},
   "source": [
    "## 복수 입력과 복수 출력을 하는 예측\n",
    "* numpy를 활용하여 만들어 봅시다."
   ]
  },
  {
   "attachments": {},
   "cell_type": "markdown",
   "metadata": {},
   "source": [
    "![](https://drek4537l1klr.cloudfront.net/trask2/Figures/f0038-01_alt.jpg)\n",
    "\n",
    "![](https://drek4537l1klr.cloudfront.net/trask2/Figures/f0038-02_alt.jpg)\n",
    "\n",
    "![](https://drek4537l1klr.cloudfront.net/trask2/Figures/f0039-01_alt.jpg)\n",
    "\n",
    "![](https://drek4537l1klr.cloudfront.net/trask2/Figures/f0039-02_alt.jpg)"
   ]
  },
  {
   "attachments": {},
   "cell_type": "markdown",
   "metadata": {},
   "source": [
    "### 예측에 관한 예측\n",
    "- 신경망에서 나오는 출력 결과는 다른 신경망에 입력으로 공급할 수 있음 --> 두 번의 연속적인 벡터-행렬 곱\n",
    "\n",
    "![](https://drek4537l1klr.cloudfront.net/trask2/Figures/f0042-01_alt.jpg)\n",
    "\n",
    "![](https://drek4537l1klr.cloudfront.net/trask2/Figures/f0042-02_alt.jpg)\n",
    "\n",
    "![](https://drek4537l1klr.cloudfront.net/trask2/Figures/f0043-01_alt.jpg)"
   ]
  },
  {
   "cell_type": "code",
   "execution_count": null,
   "metadata": {},
   "outputs": [],
   "source": [
    "import numpy as np\n",
    "\n",
    "# Inputs-to-hidden weights\n",
    "ih_wgt = np.array([\n",
    "            # toes %win #fans\n",
    "            [0.1, 0.2, -0.1], # hid[0]\n",
    "            [-0.1,0.1, 0.9], # hid[1]\n",
    "            [0.1, 0.4, 0.1]]) # hid[2]\n",
    "\n",
    "\n",
    "# Hidden-to-prediction weights\n",
    "hp_wgt = np.array([\n",
    "            # hid[0] hid[1] hid[2]\n",
    "            [0.3, 1.1, -0.3], # hurt?\n",
    "            [0.1, 0.2, 0.0], # win?\n",
    "            [0.0, 1.3, 0.1]]) # sad?\n",
    "\n",
    "weights = [ih_wgt, hp_wgt]\n",
    "\n",
    "def neural_network(weights, input):\n",
    "    hid = np.dot(weights[0], input)\n",
    "    pred = np.dot(weights[1], hid)\n",
    "    # hid = input.dot(weights[0])\n",
    "    # pred = hid.dot(weights[1])\n",
    "    return pred\n",
    "\n",
    "toes = np.array([8.5, 9.5, 9.9, 9.0])\n",
    "wlrec = np.array([0.65,0.8, 0.8, 0.9])\n",
    "nfans = np.array([1.2, 1.3, 0.5, 1.0])\n",
    "\n",
    "input = np.array([toes[0],wlrec[0],nfans[0]])\n",
    "\n",
    "pred = neural_network(weights, input)\n",
    "print(pred)"
   ]
  },
  {
   "cell_type": "code",
   "execution_count": null,
   "metadata": {},
   "outputs": [],
   "source": [
    "# In general way\n",
    "import numpy as np\n",
    "\n",
    "# Inputs-to-hidden weights\n",
    "ih_wgt = np.array([\n",
    "            [0.1, 0.2, -0.1], # hid[0]\n",
    "            [-0.1,0.1, 0.9], # hid[1]\n",
    "            [0.1, 0.4, 0.1]]) # hid[2]\n",
    "\n",
    "\n",
    "# Hidden-to-prediction weights\n",
    "hp_wgt = np.array([\n",
    "            [0.3, 1.1, -0.3], # hurt?\n",
    "            [0.1, 0.2, 0.0], # win?\n",
    "            [0.0, 1.3, 0.1]]) # sad?\n",
    "\n",
    "toes = np.array([8.5, 9.5, 9.9, 9.0])\n",
    "wlrec = np.array([0.65, 0.8, 0.8, 0.9])\n",
    "nfans = np.array([1.2, 1.3, 0.5, 1.0])\n",
    "\n",
    "input = np.array([toes, wlrec, nfans], ndmin=2)\n",
    "\n",
    "pred = np.matmul(hp_wgt, np.matmul(ih_wgt, input))\n",
    "print(pred)"
   ]
  },
  {
   "attachments": {},
   "cell_type": "markdown",
   "metadata": {},
   "source": [
    "## Important!\n",
    "\"Forward propagation\""
   ]
  }
 ],
 "metadata": {
  "colab": {
   "collapsed_sections": [],
   "name": "4-2 확률적 경사 하강법.ipynb",
   "provenance": []
  },
  "kernelspec": {
   "display_name": "Python 3.9.6 64-bit",
   "language": "python",
   "name": "python3"
  },
  "language_info": {
   "codemirror_mode": {
    "name": "ipython",
    "version": 3
   },
   "file_extension": ".py",
   "mimetype": "text/x-python",
   "name": "python",
   "nbconvert_exporter": "python",
   "pygments_lexer": "ipython3",
   "version": "3.9.6"
  },
  "vscode": {
   "interpreter": {
    "hash": "4ed7c5303468c6f42560d32e811323012438a4f036415de2c7ac2fb5dad5e44a"
   }
  }
 },
 "nbformat": 4,
 "nbformat_minor": 4
}
